{
 "cells": [
  {
   "cell_type": "code",
   "execution_count": 1,
   "metadata": {},
   "outputs": [],
   "source": [
    "#Import packages\n",
    "import pandas as pd\n",
    "import numpy as np\n",
    "import matplotlib.pyplot as plt\n",
    "import seaborn as sns\n",
    "import copy\n",
    "import warnings\n",
    "from sklearn.model_selection import train_test_split\n",
    "import pickle\n",
    "from MVDD.MVDD import MVDD\n",
    "import MVDD.MVDD_Generator as mvGen\n",
    "\n",
    "plt.rc('font', size=12)\n",
    "warnings.filterwarnings('ignore')"
   ]
  },
  {
   "cell_type": "markdown",
   "metadata": {},
   "source": [
    "# Hemo"
   ]
  },
  {
   "cell_type": "code",
   "execution_count": 2,
   "metadata": {},
   "outputs": [
    {
     "data": {
      "text/plain": "          RAP   PAS   PAD  PAMN  PCWP  PCWPMod  PCWPA  PCWPMN    CO    CI  \\\nDEIDNUM                                                                     \n72       24.0  42.0  24.0  30.0  36.0     36.0   36.0    36.0  2.20  1.60   \n72       18.0  42.0  24.0  30.0  24.0     24.0   24.0    28.0  3.10  2.00   \n81       10.0  40.0  20.0  27.0  18.0     18.0   18.0    20.0  4.52  2.02   \n81       12.0  35.0  15.0  25.0  17.0     17.0   17.0    14.0  4.65  2.08   \n814       3.0  51.0  19.0  30.0  18.0     18.0   18.0    18.0  4.10  2.00   \n...       ...   ...   ...   ...   ...      ...    ...     ...   ...   ...   \n98508     NaN   NaN   NaN   NaN   NaN      NaN    NaN     NaN   NaN   NaN   \n99302    19.0  87.0  37.0  54.0  44.0     44.0   44.0     NaN  3.90  2.00   \n99302    11.0  70.0  28.0  44.0  28.0     28.0   28.0     NaN  5.30  2.70   \n99935     8.0  49.0  29.0  31.0  15.0     15.0   15.0    26.0  4.00  2.40   \n99935     8.0  52.0  24.0  39.0  24.0     24.0   24.0    24.0  5.60  3.30   \n\n         ...      PAPP          SVR       RAT   PPRatio   Age   EjF  Score  \\\nDEIDNUM  ...                                                                 \n72       ...  0.428571  5357.575758  0.666667  0.266667  88.0  25.0      5   \n72       ...  0.428571  3509.677419  0.750000  0.272727  88.0  25.0      3   \n81       ...  0.500000  1982.300885  0.555556  0.242857  69.0  20.0      1   \n81       ...  0.571429  1772.043011  0.705882  0.571429  69.0  20.0      1   \n814      ...  0.627451  2621.138211  0.166667  0.566667  58.0   NaN      3   \n...      ...       ...          ...       ...       ...   ...   ...    ...   \n98508    ...       NaN          NaN       NaN       NaN  57.0  30.0      4   \n99302    ...  0.574713  2666.666667  0.431818  0.642857  41.0  15.0      5   \n99302    ...  0.600000  2440.251572  0.392857  1.088608  41.0  15.0      3   \n99935    ...  0.408163  3220.000000  0.533333  1.253333  64.0  20.0      3   \n99935    ...  0.538462  1985.714286  0.333333  0.888889  64.0  20.0      3   \n\n         ScoreDeath  ScoreRehosp  ScoreReadmission  \nDEIDNUM                                             \n72                5            5                 4  \n72                3            4                 2  \n81                2            1                 1  \n81                2            1                 1  \n814               3            4                 2  \n...             ...          ...               ...  \n98508             4            3                 5  \n99302             5            5                 4  \n99302             3            4                 2  \n99935             3            4                 2  \n99935             3            4                 2  \n\n[418 rows x 31 columns]",
      "text/html": "<div>\n<style scoped>\n    .dataframe tbody tr th:only-of-type {\n        vertical-align: middle;\n    }\n\n    .dataframe tbody tr th {\n        vertical-align: top;\n    }\n\n    .dataframe thead th {\n        text-align: right;\n    }\n</style>\n<table border=\"1\" class=\"dataframe\">\n  <thead>\n    <tr style=\"text-align: right;\">\n      <th></th>\n      <th>RAP</th>\n      <th>PAS</th>\n      <th>PAD</th>\n      <th>PAMN</th>\n      <th>PCWP</th>\n      <th>PCWPMod</th>\n      <th>PCWPA</th>\n      <th>PCWPMN</th>\n      <th>CO</th>\n      <th>CI</th>\n      <th>...</th>\n      <th>PAPP</th>\n      <th>SVR</th>\n      <th>RAT</th>\n      <th>PPRatio</th>\n      <th>Age</th>\n      <th>EjF</th>\n      <th>Score</th>\n      <th>ScoreDeath</th>\n      <th>ScoreRehosp</th>\n      <th>ScoreReadmission</th>\n    </tr>\n    <tr>\n      <th>DEIDNUM</th>\n      <th></th>\n      <th></th>\n      <th></th>\n      <th></th>\n      <th></th>\n      <th></th>\n      <th></th>\n      <th></th>\n      <th></th>\n      <th></th>\n      <th></th>\n      <th></th>\n      <th></th>\n      <th></th>\n      <th></th>\n      <th></th>\n      <th></th>\n      <th></th>\n      <th></th>\n      <th></th>\n      <th></th>\n    </tr>\n  </thead>\n  <tbody>\n    <tr>\n      <th>72</th>\n      <td>24.0</td>\n      <td>42.0</td>\n      <td>24.0</td>\n      <td>30.0</td>\n      <td>36.0</td>\n      <td>36.0</td>\n      <td>36.0</td>\n      <td>36.0</td>\n      <td>2.20</td>\n      <td>1.60</td>\n      <td>...</td>\n      <td>0.428571</td>\n      <td>5357.575758</td>\n      <td>0.666667</td>\n      <td>0.266667</td>\n      <td>88.0</td>\n      <td>25.0</td>\n      <td>5</td>\n      <td>5</td>\n      <td>5</td>\n      <td>4</td>\n    </tr>\n    <tr>\n      <th>72</th>\n      <td>18.0</td>\n      <td>42.0</td>\n      <td>24.0</td>\n      <td>30.0</td>\n      <td>24.0</td>\n      <td>24.0</td>\n      <td>24.0</td>\n      <td>28.0</td>\n      <td>3.10</td>\n      <td>2.00</td>\n      <td>...</td>\n      <td>0.428571</td>\n      <td>3509.677419</td>\n      <td>0.750000</td>\n      <td>0.272727</td>\n      <td>88.0</td>\n      <td>25.0</td>\n      <td>3</td>\n      <td>3</td>\n      <td>4</td>\n      <td>2</td>\n    </tr>\n    <tr>\n      <th>81</th>\n      <td>10.0</td>\n      <td>40.0</td>\n      <td>20.0</td>\n      <td>27.0</td>\n      <td>18.0</td>\n      <td>18.0</td>\n      <td>18.0</td>\n      <td>20.0</td>\n      <td>4.52</td>\n      <td>2.02</td>\n      <td>...</td>\n      <td>0.500000</td>\n      <td>1982.300885</td>\n      <td>0.555556</td>\n      <td>0.242857</td>\n      <td>69.0</td>\n      <td>20.0</td>\n      <td>1</td>\n      <td>2</td>\n      <td>1</td>\n      <td>1</td>\n    </tr>\n    <tr>\n      <th>81</th>\n      <td>12.0</td>\n      <td>35.0</td>\n      <td>15.0</td>\n      <td>25.0</td>\n      <td>17.0</td>\n      <td>17.0</td>\n      <td>17.0</td>\n      <td>14.0</td>\n      <td>4.65</td>\n      <td>2.08</td>\n      <td>...</td>\n      <td>0.571429</td>\n      <td>1772.043011</td>\n      <td>0.705882</td>\n      <td>0.571429</td>\n      <td>69.0</td>\n      <td>20.0</td>\n      <td>1</td>\n      <td>2</td>\n      <td>1</td>\n      <td>1</td>\n    </tr>\n    <tr>\n      <th>814</th>\n      <td>3.0</td>\n      <td>51.0</td>\n      <td>19.0</td>\n      <td>30.0</td>\n      <td>18.0</td>\n      <td>18.0</td>\n      <td>18.0</td>\n      <td>18.0</td>\n      <td>4.10</td>\n      <td>2.00</td>\n      <td>...</td>\n      <td>0.627451</td>\n      <td>2621.138211</td>\n      <td>0.166667</td>\n      <td>0.566667</td>\n      <td>58.0</td>\n      <td>NaN</td>\n      <td>3</td>\n      <td>3</td>\n      <td>4</td>\n      <td>2</td>\n    </tr>\n    <tr>\n      <th>...</th>\n      <td>...</td>\n      <td>...</td>\n      <td>...</td>\n      <td>...</td>\n      <td>...</td>\n      <td>...</td>\n      <td>...</td>\n      <td>...</td>\n      <td>...</td>\n      <td>...</td>\n      <td>...</td>\n      <td>...</td>\n      <td>...</td>\n      <td>...</td>\n      <td>...</td>\n      <td>...</td>\n      <td>...</td>\n      <td>...</td>\n      <td>...</td>\n      <td>...</td>\n      <td>...</td>\n    </tr>\n    <tr>\n      <th>98508</th>\n      <td>NaN</td>\n      <td>NaN</td>\n      <td>NaN</td>\n      <td>NaN</td>\n      <td>NaN</td>\n      <td>NaN</td>\n      <td>NaN</td>\n      <td>NaN</td>\n      <td>NaN</td>\n      <td>NaN</td>\n      <td>...</td>\n      <td>NaN</td>\n      <td>NaN</td>\n      <td>NaN</td>\n      <td>NaN</td>\n      <td>57.0</td>\n      <td>30.0</td>\n      <td>4</td>\n      <td>4</td>\n      <td>3</td>\n      <td>5</td>\n    </tr>\n    <tr>\n      <th>99302</th>\n      <td>19.0</td>\n      <td>87.0</td>\n      <td>37.0</td>\n      <td>54.0</td>\n      <td>44.0</td>\n      <td>44.0</td>\n      <td>44.0</td>\n      <td>NaN</td>\n      <td>3.90</td>\n      <td>2.00</td>\n      <td>...</td>\n      <td>0.574713</td>\n      <td>2666.666667</td>\n      <td>0.431818</td>\n      <td>0.642857</td>\n      <td>41.0</td>\n      <td>15.0</td>\n      <td>5</td>\n      <td>5</td>\n      <td>5</td>\n      <td>4</td>\n    </tr>\n    <tr>\n      <th>99302</th>\n      <td>11.0</td>\n      <td>70.0</td>\n      <td>28.0</td>\n      <td>44.0</td>\n      <td>28.0</td>\n      <td>28.0</td>\n      <td>28.0</td>\n      <td>NaN</td>\n      <td>5.30</td>\n      <td>2.70</td>\n      <td>...</td>\n      <td>0.600000</td>\n      <td>2440.251572</td>\n      <td>0.392857</td>\n      <td>1.088608</td>\n      <td>41.0</td>\n      <td>15.0</td>\n      <td>3</td>\n      <td>3</td>\n      <td>4</td>\n      <td>2</td>\n    </tr>\n    <tr>\n      <th>99935</th>\n      <td>8.0</td>\n      <td>49.0</td>\n      <td>29.0</td>\n      <td>31.0</td>\n      <td>15.0</td>\n      <td>15.0</td>\n      <td>15.0</td>\n      <td>26.0</td>\n      <td>4.00</td>\n      <td>2.40</td>\n      <td>...</td>\n      <td>0.408163</td>\n      <td>3220.000000</td>\n      <td>0.533333</td>\n      <td>1.253333</td>\n      <td>64.0</td>\n      <td>20.0</td>\n      <td>3</td>\n      <td>3</td>\n      <td>4</td>\n      <td>2</td>\n    </tr>\n    <tr>\n      <th>99935</th>\n      <td>8.0</td>\n      <td>52.0</td>\n      <td>24.0</td>\n      <td>39.0</td>\n      <td>24.0</td>\n      <td>24.0</td>\n      <td>24.0</td>\n      <td>24.0</td>\n      <td>5.60</td>\n      <td>3.30</td>\n      <td>...</td>\n      <td>0.538462</td>\n      <td>1985.714286</td>\n      <td>0.333333</td>\n      <td>0.888889</td>\n      <td>64.0</td>\n      <td>20.0</td>\n      <td>3</td>\n      <td>3</td>\n      <td>4</td>\n      <td>2</td>\n    </tr>\n  </tbody>\n</table>\n<p>418 rows × 31 columns</p>\n</div>"
     },
     "execution_count": 2,
     "metadata": {},
     "output_type": "execute_result"
    }
   ],
   "source": [
    "#Load original dataframes\n",
    "hemoData = pd.read_csv('Data/Preprocessed Data/Cluster_Hemo.csv', index_col='DEIDNUM')\n",
    "allScores = hemoData['Score']\n",
    "death = hemoData['ScoreDeath']\n",
    "rehosp = hemoData['ScoreRehosp']\n",
    "readm = hemoData['ScoreReadmission']\n",
    "hemoData"
   ]
  },
  {
   "cell_type": "code",
   "execution_count": 3,
   "metadata": {},
   "outputs": [
    {
     "data": {
      "text/plain": "((418, 27), (418,))"
     },
     "execution_count": 3,
     "metadata": {},
     "output_type": "execute_result"
    }
   ],
   "source": [
    "# Preprocess and create training and testing sets\n",
    "hemo = hemoData.drop('Score', axis=1)\n",
    "hemo = hemo.drop('ScoreDeath', axis=1)\n",
    "hemo = hemo.drop('ScoreRehosp', axis=1)\n",
    "hemo = hemo.drop('ScoreReadmission', axis=1)\n",
    "hemo = hemo.replace(np.inf, 0)\n",
    "hemo = hemo.fillna(0)\n",
    "\n",
    "xData = hemo\n",
    "yData = allScores\n",
    "xData.shape, yData.shape"
   ]
  },
  {
   "cell_type": "code",
   "execution_count": 4,
   "metadata": {},
   "outputs": [],
   "source": [
    "# #Alternative method to cross validation\n",
    "# #Train test split\n",
    "# xTrain, xTest, yTrain, yTest = train_test_split(hemo, allScores, test_size=.2)\n",
    "# print(xTrain.shape, xTest.shape)\n",
    "\n",
    "# #Train model using best params\n",
    "# mvdd = mvGen.generateTree(xData=xTrain, yData=yTrain, classes=[\"1\", \"2\", \"3\", \"4\", \"5\"], learningCriteria='gini', \n",
    "#                    maxLevels=None, minSamplesPerLeaf=1, modelName='TreeFiles/Hemo_AllOutcomes')\n",
    "\n",
    "# #Get Accuracy and confusion matrix of tree\n",
    "# acc = mvdd.predictScoreSet(xData=xTest, yData=yTest, confusionMatrix=False, report=True)\n",
    "# accList.append(acc)"
   ]
  },
  {
   "cell_type": "markdown",
   "metadata": {},
   "source": [
    "## All Scores Label"
   ]
  },
  {
   "cell_type": "code",
   "execution_count": 5,
   "metadata": {},
   "outputs": [],
   "source": [
    "# #Perform Grid search to find best parameter set\n",
    "# trialParams = {'criterion': ('gini', 'entropy'), 'max_depth': [3, 5, 7, 10, 13, 15, 20, 25, 30, None], \n",
    "#                'min_samples_leaf':[1, 2, 3, 4, 5, 6, 7, 8, 9, 10, 20, 30]}\n",
    "\n",
    "# mvGen.findBestModelParams(xData, yData, trialParams)"
   ]
  },
  {
   "cell_type": "code",
   "execution_count": 6,
   "metadata": {},
   "outputs": [
    {
     "name": "stdout",
     "output_type": "stream",
     "text": [
      "{'fit_time': array([0.0050652 , 0.00505114, 0.00460529, 0.00452209, 0.00503612]), 'score_time': array([0.00830793, 0.00782585, 0.00750065, 0.00776601, 0.00907111]), 'test_accuracy': array([0.76190476, 0.75      , 0.9047619 , 0.80722892, 0.78313253]), 'test_precision_weighted': array([0.76448216, 0.7484127 , 0.91024187, 0.82193501, 0.78920555]), 'test_recall_weighted': array([0.76190476, 0.75      , 0.9047619 , 0.80722892, 0.78313253]), 'test_f1_weighted': array([0.76128463, 0.74891678, 0.90527491, 0.80958435, 0.78350608]), 'test_roc_auc_ovr_weighted': array([0.8308059 , 0.82540357, 0.93448452, 0.87461439, 0.85287938])}\n"
     ]
    }
   ],
   "source": [
    "mvdd, scores = mvGen.generateTreeCrossValidation(xData=xData, yData=yData, classes=[\"1\", \"2\", \"3\", \"4\", \"5\"], \n",
    "                                  learningCriteria='gini', maxLevels=None, minSamplesPerLeaf=1, \n",
    "                                                 modelName='TreeFiles/Hemo_AllOutcomes', numFolds=5)\n",
    "print(scores)"
   ]
  },
  {
   "cell_type": "code",
   "execution_count": 7,
   "metadata": {},
   "outputs": [
    {
     "name": "stdout",
     "output_type": "stream",
     "text": [
      "Accuracy: 0.801 (+/- 0.110)\n",
      "Precision: 0.807 (+/- 0.115)\n",
      "Recall: 0.801 (+/- 0.110)\n",
      "F1: 0.802 (+/- 0.112)\n",
      "AUC: 0.864 (+/- 0.079)\n"
     ]
    }
   ],
   "source": [
    "accList = scores['test_accuracy']\n",
    "print(\"Accuracy: %0.3f (+/- %0.3f)\" % (accList.mean(), accList.std() * 2))\n",
    "precList = scores['test_precision_weighted']\n",
    "print(\"Precision: %0.3f (+/- %0.3f)\" % (precList.mean(), precList.std() * 2))\n",
    "recList = scores['test_recall_weighted']\n",
    "print(\"Recall: %0.3f (+/- %0.3f)\" % (recList.mean(), recList.std() * 2))\n",
    "f1List = scores['test_f1_weighted']\n",
    "print(\"F1: %0.3f (+/- %0.3f)\" % (f1List.mean(), f1List.std() * 2))\n",
    "rocList = scores['test_roc_auc_ovr_weighted']\n",
    "print(\"AUC: %0.3f (+/- %0.3f)\" % (rocList.mean(), rocList.std() * 2))"
   ]
  },
  {
   "cell_type": "markdown",
   "metadata": {},
   "source": [
    "# TODO Plot ROC / AUC Curves for each class somehow??\n",
    "Example: https://scikit-learn.org/stable/auto_examples/model_selection/plot_roc.html"
   ]
  },
  {
   "cell_type": "markdown",
   "metadata": {
    "pycharm": {
     "name": "#%% md\n"
    }
   },
   "source": [
    "## Death Label"
   ]
  },
  {
   "cell_type": "code",
   "execution_count": 8,
   "metadata": {},
   "outputs": [
    {
     "name": "stdout",
     "output_type": "stream",
     "text": [
      "{'fit_time': array([0.00574017, 0.00560999, 0.00554228, 0.00512314, 0.00502515]), 'score_time': array([0.00948   , 0.00911999, 0.00842071, 0.00816202, 0.00811386]), 'test_accuracy': array([0.76190476, 0.75      , 0.9047619 , 0.80722892, 0.78313253]), 'test_precision_weighted': array([0.76448216, 0.7484127 , 0.91024187, 0.82193501, 0.78920555]), 'test_recall_weighted': array([0.76190476, 0.75      , 0.9047619 , 0.80722892, 0.78313253]), 'test_f1_weighted': array([0.76128463, 0.74891678, 0.90527491, 0.80958435, 0.78350608]), 'test_roc_auc_ovr_weighted': array([0.8308059 , 0.82540357, 0.93448452, 0.87461439, 0.85287938])}\n"
     ]
    }
   ],
   "source": [
    "yData = death\n",
    "\n",
    "mvdd, scores = mvGen.generateTreeCrossValidation(xData=xData, yData=yData, classes=[\"1\", \"2\", \"3\", \"4\", \"5\"], \n",
    "                                  learningCriteria='gini', maxLevels=None, minSamplesPerLeaf=1, \n",
    "                                                 modelName='TreeFiles/Hemo_Death', numFolds=5)\n",
    "print(scores)"
   ]
  },
  {
   "cell_type": "code",
   "execution_count": 9,
   "metadata": {
    "pycharm": {
     "name": "#%%\n"
    }
   },
   "outputs": [
    {
     "name": "stdout",
     "output_type": "stream",
     "text": [
      "Accuracy: 0.801 (+/- 0.110)\n",
      "Precision: 0.807 (+/- 0.115)\n",
      "Recall: 0.801 (+/- 0.110)\n",
      "F1: 0.802 (+/- 0.112)\n",
      "AUC: 0.864 (+/- 0.079)\n"
     ]
    }
   ],
   "source": [
    "accList = scores['test_accuracy']\n",
    "print(\"Accuracy: %0.3f (+/- %0.3f)\" % (accList.mean(), accList.std() * 2))\n",
    "precList = scores['test_precision_weighted']\n",
    "print(\"Precision: %0.3f (+/- %0.3f)\" % (precList.mean(), precList.std() * 2))\n",
    "recList = scores['test_recall_weighted']\n",
    "print(\"Recall: %0.3f (+/- %0.3f)\" % (recList.mean(), recList.std() * 2))\n",
    "f1List = scores['test_f1_weighted']\n",
    "print(\"F1: %0.3f (+/- %0.3f)\" % (f1List.mean(), f1List.std() * 2))\n",
    "rocList = scores['test_roc_auc_ovr_weighted']\n",
    "print(\"AUC: %0.3f (+/- %0.3f)\" % (rocList.mean(), rocList.std() * 2))"
   ]
  },
  {
   "cell_type": "markdown",
   "metadata": {
    "pycharm": {
     "name": "#%% md\n"
    }
   },
   "source": [
    "## Rehospitalization Label"
   ]
  },
  {
   "cell_type": "code",
   "execution_count": 10,
   "metadata": {},
   "outputs": [
    {
     "name": "stdout",
     "output_type": "stream",
     "text": [
      "{'fit_time': array([0.00545287, 0.00533319, 0.00514197, 0.00498176, 0.00448895]), 'score_time': array([0.00916696, 0.00815296, 0.00786185, 0.00796199, 0.00896502]), 'test_accuracy': array([0.76190476, 0.75      , 0.9047619 , 0.80722892, 0.78313253]), 'test_precision_weighted': array([0.76448216, 0.7484127 , 0.91024187, 0.82193501, 0.78920555]), 'test_recall_weighted': array([0.76190476, 0.75      , 0.9047619 , 0.80722892, 0.78313253]), 'test_f1_weighted': array([0.76128463, 0.74891678, 0.90527491, 0.80958435, 0.78350608]), 'test_roc_auc_ovr_weighted': array([0.8308059 , 0.82540357, 0.93448452, 0.87461439, 0.85287938])}\n"
     ]
    }
   ],
   "source": [
    "yData = rehosp\n",
    "\n",
    "mvdd, scores = mvGen.generateTreeCrossValidation(xData=xData, yData=yData, classes=[\"1\", \"2\", \"3\", \"4\", \"5\"], \n",
    "                                  learningCriteria='gini', maxLevels=None, minSamplesPerLeaf=1, \n",
    "                                                 modelName='TreeFiles/Hemo_Rehosp', numFolds=5)\n",
    "print(scores)"
   ]
  },
  {
   "cell_type": "code",
   "execution_count": 11,
   "metadata": {
    "pycharm": {
     "name": "#%%\n"
    },
    "scrolled": true
   },
   "outputs": [
    {
     "name": "stdout",
     "output_type": "stream",
     "text": [
      "Accuracy: 0.801 (+/- 0.110)\n",
      "Precision: 0.807 (+/- 0.115)\n",
      "Recall: 0.801 (+/- 0.110)\n",
      "F1: 0.802 (+/- 0.112)\n",
      "AUC: 0.864 (+/- 0.079)\n"
     ]
    }
   ],
   "source": [
    "accList = scores['test_accuracy']\n",
    "print(\"Accuracy: %0.3f (+/- %0.3f)\" % (accList.mean(), accList.std() * 2))\n",
    "precList = scores['test_precision_weighted']\n",
    "print(\"Precision: %0.3f (+/- %0.3f)\" % (precList.mean(), precList.std() * 2))\n",
    "recList = scores['test_recall_weighted']\n",
    "print(\"Recall: %0.3f (+/- %0.3f)\" % (recList.mean(), recList.std() * 2))\n",
    "f1List = scores['test_f1_weighted']\n",
    "print(\"F1: %0.3f (+/- %0.3f)\" % (f1List.mean(), f1List.std() * 2))\n",
    "rocList = scores['test_roc_auc_ovr_weighted']\n",
    "print(\"AUC: %0.3f (+/- %0.3f)\" % (rocList.mean(), rocList.std() * 2))"
   ]
  },
  {
   "cell_type": "markdown",
   "metadata": {
    "pycharm": {
     "name": "#%% md\n"
    }
   },
   "source": [
    "## Readmission Label"
   ]
  },
  {
   "cell_type": "code",
   "execution_count": 12,
   "metadata": {},
   "outputs": [
    {
     "name": "stdout",
     "output_type": "stream",
     "text": [
      "{'fit_time': array([0.0056901 , 0.0062871 , 0.00536704, 0.00497699, 0.00490499]), 'score_time': array([0.010571  , 0.00847006, 0.00795007, 0.00783896, 0.00787592]), 'test_accuracy': array([0.76190476, 0.75      , 0.9047619 , 0.80722892, 0.78313253]), 'test_precision_weighted': array([0.76448216, 0.7484127 , 0.91024187, 0.82193501, 0.78920555]), 'test_recall_weighted': array([0.76190476, 0.75      , 0.9047619 , 0.80722892, 0.78313253]), 'test_f1_weighted': array([0.76128463, 0.74891678, 0.90527491, 0.80958435, 0.78350608]), 'test_roc_auc_ovr_weighted': array([0.8308059 , 0.82540357, 0.93448452, 0.87461439, 0.85287938])}\n"
     ]
    }
   ],
   "source": [
    "yData = readm\n",
    "\n",
    "mvdd, scores = mvGen.generateTreeCrossValidation(xData=xData, yData=yData, classes=[\"1\", \"2\", \"3\", \"4\", \"5\"], \n",
    "                                  learningCriteria='gini', maxLevels=None, minSamplesPerLeaf=1, \n",
    "                                                 modelName='TreeFiles/Hemo_Readmission', numFolds=5)\n",
    "print(scores)"
   ]
  },
  {
   "cell_type": "code",
   "execution_count": 13,
   "metadata": {
    "scrolled": true
   },
   "outputs": [
    {
     "name": "stdout",
     "output_type": "stream",
     "text": [
      "Accuracy: 0.801 (+/- 0.110)\n",
      "Precision: 0.807 (+/- 0.115)\n",
      "Recall: 0.801 (+/- 0.110)\n",
      "F1: 0.802 (+/- 0.112)\n",
      "AUC: 0.864 (+/- 0.079)\n"
     ]
    }
   ],
   "source": [
    "accList = scores['test_accuracy']\n",
    "print(\"Accuracy: %0.3f (+/- %0.3f)\" % (accList.mean(), accList.std() * 2))\n",
    "precList = scores['test_precision_weighted']\n",
    "print(\"Precision: %0.3f (+/- %0.3f)\" % (precList.mean(), precList.std() * 2))\n",
    "recList = scores['test_recall_weighted']\n",
    "print(\"Recall: %0.3f (+/- %0.3f)\" % (recList.mean(), recList.std() * 2))\n",
    "f1List = scores['test_f1_weighted']\n",
    "print(\"F1: %0.3f (+/- %0.3f)\" % (f1List.mean(), f1List.std() * 2))\n",
    "rocList = scores['test_roc_auc_ovr_weighted']\n",
    "print(\"AUC: %0.3f (+/- %0.3f)\" % (rocList.mean(), rocList.std() * 2))"
   ]
  },
  {
   "cell_type": "code",
   "execution_count": 13,
   "metadata": {},
   "outputs": [],
   "source": []
  },
  {
   "cell_type": "code",
   "execution_count": 13,
   "metadata": {},
   "outputs": [],
   "source": []
  },
  {
   "cell_type": "code",
   "execution_count": 13,
   "metadata": {
    "pycharm": {
     "name": "#%%\n"
    }
   },
   "outputs": [],
   "source": []
  },
  {
   "cell_type": "markdown",
   "metadata": {
    "pycharm": {
     "name": "#%% md\n"
    }
   },
   "source": [
    "# All Data"
   ]
  },
  {
   "cell_type": "code",
   "execution_count": 14,
   "metadata": {},
   "outputs": [
    {
     "data": {
      "text/plain": "          Age  Gender  Race          Wt        BMI  InitialHospDays  \\\nDEIDNUM                                                               \n72       88.0     2.0   1.0   57.100000  26.424175              9.0   \n72       88.0     2.0   1.0   52.000000  24.064047              9.0   \n81       69.0     1.0   1.0  102.363636  32.307675              5.0   \n81       69.0     1.0   1.0  100.454545  31.705134              5.0   \n86       56.0     2.0   2.0   98.636364  40.016375              3.0   \n...       ...     ...   ...         ...        ...              ...   \n99302    41.0     1.0   2.0   97.400000  40.541103             21.0   \n99912    46.0     1.0   1.0   78.636364  25.677180              2.0   \n99912    46.0     1.0   1.0   78.200000  25.534694              2.0   \n99935    64.0     2.0   1.0   77.700000  32.762692              3.0   \n99935    64.0     2.0   1.0         NaN        NaN              3.0   \n\n         TotalHospDays  NYHA  MLHFS   AF  ...     HR         PV         MAP  \\\nDEIDNUM                                   ...                                 \n72                16.0   4.0   76.0  1.0  ...  104.0  12.452563  139.333333   \n72                16.0   3.0   76.0  1.0  ...   92.0  12.452563  126.000000   \n81                13.0   4.0   21.0  1.0  ...   70.0  -3.346568  125.333333   \n81                13.0   2.0   21.0  1.0  ...   72.0  -3.346568  105.666667   \n86                 3.0   4.0    NaN  0.0  ...   86.0   5.478621  146.666667   \n...                ...   ...    ...  ...  ...    ...        ...         ...   \n99302             21.0   NaN   79.0  0.0  ...   75.0  25.535155  130.000000   \n99912              2.0   4.0   89.0  0.0  ...   67.0 -13.911732  174.666667   \n99912              2.0   3.0   89.0  0.0  ...   60.0 -13.911732  140.666667   \n99935             16.0   3.0  101.0  0.0  ...   86.0        NaN  135.333333   \n99935             16.0   NaN  101.0  0.0  ...   87.0        NaN  153.333333   \n\n           PP       PPP   PPRatio  Score  ScoreDeath  ScoreRehosp  \\\nDEIDNUM                                                             \n72       26.0  0.276596  0.250000      4           4            4   \n72       26.0  0.302326  0.282609      4           4            4   \n81       32.0  0.363636  0.457143      5           5            5   \n81       34.0  0.441558  0.472222      5           5            5   \n86       30.0  0.300000  0.348837      2           2            2   \n...       ...       ...       ...    ...         ...          ...   \n99302    55.0  0.550000  0.733333      5           5            5   \n99912    38.0  0.316667  0.567164      2           2            2   \n99912    24.0  0.255319  0.400000      2           2            2   \n99935    42.0  0.428571  0.488372      3           3            3   \n99935    70.0  0.583333  0.804598      3           3            3   \n\n         ScoreReadmission  \nDEIDNUM                    \n72                      4  \n72                      4  \n81                      5  \n81                      5  \n86                      1  \n...                   ...  \n99302                   5  \n99912                   1  \n99912                   1  \n99935                   3  \n99935                   3  \n\n[866 rows x 122 columns]",
      "text/html": "<div>\n<style scoped>\n    .dataframe tbody tr th:only-of-type {\n        vertical-align: middle;\n    }\n\n    .dataframe tbody tr th {\n        vertical-align: top;\n    }\n\n    .dataframe thead th {\n        text-align: right;\n    }\n</style>\n<table border=\"1\" class=\"dataframe\">\n  <thead>\n    <tr style=\"text-align: right;\">\n      <th></th>\n      <th>Age</th>\n      <th>Gender</th>\n      <th>Race</th>\n      <th>Wt</th>\n      <th>BMI</th>\n      <th>InitialHospDays</th>\n      <th>TotalHospDays</th>\n      <th>NYHA</th>\n      <th>MLHFS</th>\n      <th>AF</th>\n      <th>...</th>\n      <th>HR</th>\n      <th>PV</th>\n      <th>MAP</th>\n      <th>PP</th>\n      <th>PPP</th>\n      <th>PPRatio</th>\n      <th>Score</th>\n      <th>ScoreDeath</th>\n      <th>ScoreRehosp</th>\n      <th>ScoreReadmission</th>\n    </tr>\n    <tr>\n      <th>DEIDNUM</th>\n      <th></th>\n      <th></th>\n      <th></th>\n      <th></th>\n      <th></th>\n      <th></th>\n      <th></th>\n      <th></th>\n      <th></th>\n      <th></th>\n      <th></th>\n      <th></th>\n      <th></th>\n      <th></th>\n      <th></th>\n      <th></th>\n      <th></th>\n      <th></th>\n      <th></th>\n      <th></th>\n      <th></th>\n    </tr>\n  </thead>\n  <tbody>\n    <tr>\n      <th>72</th>\n      <td>88.0</td>\n      <td>2.0</td>\n      <td>1.0</td>\n      <td>57.100000</td>\n      <td>26.424175</td>\n      <td>9.0</td>\n      <td>16.0</td>\n      <td>4.0</td>\n      <td>76.0</td>\n      <td>1.0</td>\n      <td>...</td>\n      <td>104.0</td>\n      <td>12.452563</td>\n      <td>139.333333</td>\n      <td>26.0</td>\n      <td>0.276596</td>\n      <td>0.250000</td>\n      <td>4</td>\n      <td>4</td>\n      <td>4</td>\n      <td>4</td>\n    </tr>\n    <tr>\n      <th>72</th>\n      <td>88.0</td>\n      <td>2.0</td>\n      <td>1.0</td>\n      <td>52.000000</td>\n      <td>24.064047</td>\n      <td>9.0</td>\n      <td>16.0</td>\n      <td>3.0</td>\n      <td>76.0</td>\n      <td>1.0</td>\n      <td>...</td>\n      <td>92.0</td>\n      <td>12.452563</td>\n      <td>126.000000</td>\n      <td>26.0</td>\n      <td>0.302326</td>\n      <td>0.282609</td>\n      <td>4</td>\n      <td>4</td>\n      <td>4</td>\n      <td>4</td>\n    </tr>\n    <tr>\n      <th>81</th>\n      <td>69.0</td>\n      <td>1.0</td>\n      <td>1.0</td>\n      <td>102.363636</td>\n      <td>32.307675</td>\n      <td>5.0</td>\n      <td>13.0</td>\n      <td>4.0</td>\n      <td>21.0</td>\n      <td>1.0</td>\n      <td>...</td>\n      <td>70.0</td>\n      <td>-3.346568</td>\n      <td>125.333333</td>\n      <td>32.0</td>\n      <td>0.363636</td>\n      <td>0.457143</td>\n      <td>5</td>\n      <td>5</td>\n      <td>5</td>\n      <td>5</td>\n    </tr>\n    <tr>\n      <th>81</th>\n      <td>69.0</td>\n      <td>1.0</td>\n      <td>1.0</td>\n      <td>100.454545</td>\n      <td>31.705134</td>\n      <td>5.0</td>\n      <td>13.0</td>\n      <td>2.0</td>\n      <td>21.0</td>\n      <td>1.0</td>\n      <td>...</td>\n      <td>72.0</td>\n      <td>-3.346568</td>\n      <td>105.666667</td>\n      <td>34.0</td>\n      <td>0.441558</td>\n      <td>0.472222</td>\n      <td>5</td>\n      <td>5</td>\n      <td>5</td>\n      <td>5</td>\n    </tr>\n    <tr>\n      <th>86</th>\n      <td>56.0</td>\n      <td>2.0</td>\n      <td>2.0</td>\n      <td>98.636364</td>\n      <td>40.016375</td>\n      <td>3.0</td>\n      <td>3.0</td>\n      <td>4.0</td>\n      <td>NaN</td>\n      <td>0.0</td>\n      <td>...</td>\n      <td>86.0</td>\n      <td>5.478621</td>\n      <td>146.666667</td>\n      <td>30.0</td>\n      <td>0.300000</td>\n      <td>0.348837</td>\n      <td>2</td>\n      <td>2</td>\n      <td>2</td>\n      <td>1</td>\n    </tr>\n    <tr>\n      <th>...</th>\n      <td>...</td>\n      <td>...</td>\n      <td>...</td>\n      <td>...</td>\n      <td>...</td>\n      <td>...</td>\n      <td>...</td>\n      <td>...</td>\n      <td>...</td>\n      <td>...</td>\n      <td>...</td>\n      <td>...</td>\n      <td>...</td>\n      <td>...</td>\n      <td>...</td>\n      <td>...</td>\n      <td>...</td>\n      <td>...</td>\n      <td>...</td>\n      <td>...</td>\n      <td>...</td>\n    </tr>\n    <tr>\n      <th>99302</th>\n      <td>41.0</td>\n      <td>1.0</td>\n      <td>2.0</td>\n      <td>97.400000</td>\n      <td>40.541103</td>\n      <td>21.0</td>\n      <td>21.0</td>\n      <td>NaN</td>\n      <td>79.0</td>\n      <td>0.0</td>\n      <td>...</td>\n      <td>75.0</td>\n      <td>25.535155</td>\n      <td>130.000000</td>\n      <td>55.0</td>\n      <td>0.550000</td>\n      <td>0.733333</td>\n      <td>5</td>\n      <td>5</td>\n      <td>5</td>\n      <td>5</td>\n    </tr>\n    <tr>\n      <th>99912</th>\n      <td>46.0</td>\n      <td>1.0</td>\n      <td>1.0</td>\n      <td>78.636364</td>\n      <td>25.677180</td>\n      <td>2.0</td>\n      <td>2.0</td>\n      <td>4.0</td>\n      <td>89.0</td>\n      <td>0.0</td>\n      <td>...</td>\n      <td>67.0</td>\n      <td>-13.911732</td>\n      <td>174.666667</td>\n      <td>38.0</td>\n      <td>0.316667</td>\n      <td>0.567164</td>\n      <td>2</td>\n      <td>2</td>\n      <td>2</td>\n      <td>1</td>\n    </tr>\n    <tr>\n      <th>99912</th>\n      <td>46.0</td>\n      <td>1.0</td>\n      <td>1.0</td>\n      <td>78.200000</td>\n      <td>25.534694</td>\n      <td>2.0</td>\n      <td>2.0</td>\n      <td>3.0</td>\n      <td>89.0</td>\n      <td>0.0</td>\n      <td>...</td>\n      <td>60.0</td>\n      <td>-13.911732</td>\n      <td>140.666667</td>\n      <td>24.0</td>\n      <td>0.255319</td>\n      <td>0.400000</td>\n      <td>2</td>\n      <td>2</td>\n      <td>2</td>\n      <td>1</td>\n    </tr>\n    <tr>\n      <th>99935</th>\n      <td>64.0</td>\n      <td>2.0</td>\n      <td>1.0</td>\n      <td>77.700000</td>\n      <td>32.762692</td>\n      <td>3.0</td>\n      <td>16.0</td>\n      <td>3.0</td>\n      <td>101.0</td>\n      <td>0.0</td>\n      <td>...</td>\n      <td>86.0</td>\n      <td>NaN</td>\n      <td>135.333333</td>\n      <td>42.0</td>\n      <td>0.428571</td>\n      <td>0.488372</td>\n      <td>3</td>\n      <td>3</td>\n      <td>3</td>\n      <td>3</td>\n    </tr>\n    <tr>\n      <th>99935</th>\n      <td>64.0</td>\n      <td>2.0</td>\n      <td>1.0</td>\n      <td>NaN</td>\n      <td>NaN</td>\n      <td>3.0</td>\n      <td>16.0</td>\n      <td>NaN</td>\n      <td>101.0</td>\n      <td>0.0</td>\n      <td>...</td>\n      <td>87.0</td>\n      <td>NaN</td>\n      <td>153.333333</td>\n      <td>70.0</td>\n      <td>0.583333</td>\n      <td>0.804598</td>\n      <td>3</td>\n      <td>3</td>\n      <td>3</td>\n      <td>3</td>\n    </tr>\n  </tbody>\n</table>\n<p>866 rows × 122 columns</p>\n</div>"
     },
     "execution_count": 14,
     "metadata": {},
     "output_type": "execute_result"
    }
   ],
   "source": [
    "#Load original dataframes\n",
    "allDataOrig = pd.read_csv('Data/Preprocessed Data/Cluster_AllData.csv', index_col='DEIDNUM')\n",
    "allScores = allDataOrig['Score']\n",
    "death = allDataOrig['ScoreDeath']\n",
    "rehosp = allDataOrig['ScoreRehosp']\n",
    "readm = allDataOrig['ScoreReadmission']\n",
    "\n",
    "allDataOrig"
   ]
  },
  {
   "cell_type": "code",
   "execution_count": 15,
   "metadata": {},
   "outputs": [],
   "source": [
    "# Preprocess and create training and testing sets\n",
    "allData = allDataOrig.drop('Score', axis=1)\n",
    "allData = allData.drop('ScoreDeath', axis=1)\n",
    "allData = allData.drop('ScoreRehosp', axis=1)\n",
    "allData = allData.drop('ScoreReadmission', axis=1)\n",
    "allData = allData.replace(np.inf, 0)\n",
    "allData = allData.fillna(0)\n",
    "\n",
    "xData = allData\n",
    "yData = allScores"
   ]
  },
  {
   "cell_type": "code",
   "execution_count": 15,
   "metadata": {
    "pycharm": {
     "name": "#%%\n"
    }
   },
   "outputs": [],
   "source": []
  },
  {
   "cell_type": "markdown",
   "metadata": {
    "pycharm": {
     "name": "#%% md\n"
    }
   },
   "source": [
    "## All Scores Label"
   ]
  },
  {
   "cell_type": "code",
   "execution_count": 16,
   "metadata": {},
   "outputs": [
    {
     "name": "stdout",
     "output_type": "stream",
     "text": [
      "Best parameters set found on training set:\n",
      "{'criterion': 'gini', 'max_depth': 15, 'min_samples_leaf': 5}\n",
      "              precision    recall  f1-score   support\n",
      "\n",
      "           1       0.92      0.97      0.95       142\n",
      "           2       0.99      0.99      0.99       253\n",
      "           3       0.94      0.84      0.89       107\n",
      "           4       0.99      0.99      0.99       203\n",
      "           5       0.97      0.98      0.98       161\n",
      "\n",
      "    accuracy                           0.97       866\n",
      "   macro avg       0.96      0.95      0.96       866\n",
      "weighted avg       0.97      0.97      0.97       866\n",
      "\n"
     ]
    }
   ],
   "source": [
    "#Perform Grid search to find best parameter set\n",
    "trialParams = {'criterion': ('gini', 'entropy'), 'max_depth': [3, 5, 7, 10, 13, 15, 20, 25, 30, None], \n",
    "               'min_samples_leaf':[1, 2, 3, 4, 5, 6, 7, 8, 9, 10, 20, 30]}\n",
    "\n",
    "mvGen.findBestModelParams(xData, yData, trialParams)"
   ]
  },
  {
   "cell_type": "code",
   "execution_count": 17,
   "metadata": {},
   "outputs": [
    {
     "name": "stdout",
     "output_type": "stream",
     "text": [
      "{'fit_time': array([0.0101738 , 0.01007009, 0.00895   , 0.00885487, 0.00933981]), 'score_time': array([0.00995421, 0.01042581, 0.01052284, 0.00981212, 0.00983191]), 'test_accuracy': array([0.93678161, 0.93641618, 0.91907514, 0.91907514, 0.9017341 ]), 'test_precision_weighted': array([0.94577688, 0.94066746, 0.91761259, 0.91995947, 0.90353349]), 'test_recall_weighted': array([0.93678161, 0.93641618, 0.91907514, 0.91907514, 0.9017341 ]), 'test_f1_weighted': array([0.93627191, 0.93695165, 0.9180463 , 0.91881243, 0.89737287]), 'test_roc_auc_ovr_weighted': array([0.96481494, 0.97366904, 0.96337845, 0.95375619, 0.95717993])}\n"
     ]
    }
   ],
   "source": [
    "mvdd, scores = mvGen.generateTreeCrossValidation(xData=xData, yData=yData, classes=[\"1\", \"2\", \"3\", \"4\", \"5\"], \n",
    "                                  learningCriteria='gini', maxLevels=None, minSamplesPerLeaf=3, \n",
    "                                                 modelName='TreeFiles/AllData_AllOutcomes', numFolds=5)\n",
    "print(scores)"
   ]
  },
  {
   "cell_type": "code",
   "execution_count": 18,
   "metadata": {
    "pycharm": {
     "name": "#%%\n"
    }
   },
   "outputs": [
    {
     "name": "stdout",
     "output_type": "stream",
     "text": [
      "Accuracy: 0.923 (+/- 0.026)\n",
      "Precision: 0.926 (+/- 0.031)\n",
      "Recall: 0.923 (+/- 0.026)\n",
      "F1: 0.921 (+/- 0.029)\n",
      "AUC: 0.963 (+/- 0.014)\n"
     ]
    }
   ],
   "source": [
    "accList = scores['test_accuracy']\n",
    "print(\"Accuracy: %0.3f (+/- %0.3f)\" % (accList.mean(), accList.std() * 2))\n",
    "precList = scores['test_precision_weighted']\n",
    "print(\"Precision: %0.3f (+/- %0.3f)\" % (precList.mean(), precList.std() * 2))\n",
    "recList = scores['test_recall_weighted']\n",
    "print(\"Recall: %0.3f (+/- %0.3f)\" % (recList.mean(), recList.std() * 2))\n",
    "f1List = scores['test_f1_weighted']\n",
    "print(\"F1: %0.3f (+/- %0.3f)\" % (f1List.mean(), f1List.std() * 2))\n",
    "rocList = scores['test_roc_auc_ovr_weighted']\n",
    "print(\"AUC: %0.3f (+/- %0.3f)\" % (rocList.mean(), rocList.std() * 2))"
   ]
  },
  {
   "cell_type": "markdown",
   "metadata": {
    "pycharm": {
     "name": "#%% md\n"
    }
   },
   "source": [
    "## Death Label"
   ]
  },
  {
   "cell_type": "code",
   "execution_count": 19,
   "metadata": {},
   "outputs": [
    {
     "name": "stdout",
     "output_type": "stream",
     "text": [
      "{'fit_time': array([0.00967193, 0.00968194, 0.00871396, 0.00734711, 0.00981283]), 'score_time': array([0.00985289, 0.00959992, 0.00860524, 0.00951004, 0.01208615]), 'test_accuracy': array([0.93678161, 0.93641618, 0.91907514, 0.91907514, 0.9017341 ]), 'test_precision_weighted': array([0.94577688, 0.94066746, 0.91761259, 0.91995947, 0.90353349]), 'test_recall_weighted': array([0.93678161, 0.93641618, 0.91907514, 0.91907514, 0.9017341 ]), 'test_f1_weighted': array([0.93627191, 0.93695165, 0.9180463 , 0.91881243, 0.89737287]), 'test_roc_auc_ovr_weighted': array([0.96481494, 0.97366904, 0.96337845, 0.95375619, 0.95717993])}\n"
     ]
    }
   ],
   "source": [
    "yData = death\n",
    "\n",
    "mvdd, scores = mvGen.generateTreeCrossValidation(xData=xData, yData=yData, classes=[\"1\", \"2\", \"3\", \"4\", \"5\"], \n",
    "                                  learningCriteria='gini', maxLevels=None, minSamplesPerLeaf=3, \n",
    "                                                 modelName='TreeFiles/AllData_Death', numFolds=5)\n",
    "print(scores)"
   ]
  },
  {
   "cell_type": "code",
   "execution_count": 20,
   "metadata": {
    "pycharm": {
     "name": "#%%\n"
    }
   },
   "outputs": [
    {
     "name": "stdout",
     "output_type": "stream",
     "text": [
      "Accuracy: 0.923 (+/- 0.026)\n",
      "Precision: 0.926 (+/- 0.031)\n",
      "Recall: 0.923 (+/- 0.026)\n",
      "F1: 0.921 (+/- 0.029)\n",
      "AUC: 0.963 (+/- 0.014)\n"
     ]
    }
   ],
   "source": [
    "accList = scores['test_accuracy']\n",
    "print(\"Accuracy: %0.3f (+/- %0.3f)\" % (accList.mean(), accList.std() * 2))\n",
    "precList = scores['test_precision_weighted']\n",
    "print(\"Precision: %0.3f (+/- %0.3f)\" % (precList.mean(), precList.std() * 2))\n",
    "recList = scores['test_recall_weighted']\n",
    "print(\"Recall: %0.3f (+/- %0.3f)\" % (recList.mean(), recList.std() * 2))\n",
    "f1List = scores['test_f1_weighted']\n",
    "print(\"F1: %0.3f (+/- %0.3f)\" % (f1List.mean(), f1List.std() * 2))\n",
    "rocList = scores['test_roc_auc_ovr_weighted']\n",
    "print(\"AUC: %0.3f (+/- %0.3f)\" % (rocList.mean(), rocList.std() * 2))"
   ]
  },
  {
   "cell_type": "markdown",
   "metadata": {
    "pycharm": {
     "name": "#%% md\n"
    }
   },
   "source": [
    "## Rehospitalization Label"
   ]
  },
  {
   "cell_type": "code",
   "execution_count": 21,
   "metadata": {},
   "outputs": [
    {
     "name": "stdout",
     "output_type": "stream",
     "text": [
      "{'fit_time': array([0.00976586, 0.00850701, 0.00731015, 0.00756025, 0.00776291]), 'score_time': array([0.0086782 , 0.00808406, 0.00854707, 0.00817275, 0.00869107]), 'test_accuracy': array([0.93678161, 0.93641618, 0.91907514, 0.91907514, 0.9017341 ]), 'test_precision_weighted': array([0.94577688, 0.94066746, 0.91761259, 0.91995947, 0.90353349]), 'test_recall_weighted': array([0.93678161, 0.93641618, 0.91907514, 0.91907514, 0.9017341 ]), 'test_f1_weighted': array([0.93627191, 0.93695165, 0.9180463 , 0.91881243, 0.89737287]), 'test_roc_auc_ovr_weighted': array([0.96481494, 0.97366904, 0.96337845, 0.95375619, 0.95717993])}\n"
     ]
    }
   ],
   "source": [
    "yData = rehosp\n",
    "\n",
    "mvdd, scores = mvGen.generateTreeCrossValidation(xData=xData, yData=yData, classes=[\"1\", \"2\", \"3\", \"4\", \"5\"], \n",
    "                                  learningCriteria='gini', maxLevels=None, minSamplesPerLeaf=3, \n",
    "                                                 modelName='TreeFiles/AllData_Rehosp', numFolds=5)\n",
    "print(scores)"
   ]
  },
  {
   "cell_type": "code",
   "execution_count": 22,
   "metadata": {
    "pycharm": {
     "name": "#%%\n"
    },
    "scrolled": true
   },
   "outputs": [
    {
     "name": "stdout",
     "output_type": "stream",
     "text": [
      "Accuracy: 0.923 (+/- 0.026)\n",
      "Precision: 0.926 (+/- 0.031)\n",
      "Recall: 0.923 (+/- 0.026)\n",
      "F1: 0.921 (+/- 0.029)\n",
      "AUC: 0.963 (+/- 0.014)\n"
     ]
    }
   ],
   "source": [
    "accList = scores['test_accuracy']\n",
    "print(\"Accuracy: %0.3f (+/- %0.3f)\" % (accList.mean(), accList.std() * 2))\n",
    "precList = scores['test_precision_weighted']\n",
    "print(\"Precision: %0.3f (+/- %0.3f)\" % (precList.mean(), precList.std() * 2))\n",
    "recList = scores['test_recall_weighted']\n",
    "print(\"Recall: %0.3f (+/- %0.3f)\" % (recList.mean(), recList.std() * 2))\n",
    "f1List = scores['test_f1_weighted']\n",
    "print(\"F1: %0.3f (+/- %0.3f)\" % (f1List.mean(), f1List.std() * 2))\n",
    "rocList = scores['test_roc_auc_ovr_weighted']\n",
    "print(\"AUC: %0.3f (+/- %0.3f)\" % (rocList.mean(), rocList.std() * 2))"
   ]
  },
  {
   "cell_type": "markdown",
   "metadata": {
    "pycharm": {
     "name": "#%% md\n"
    }
   },
   "source": [
    "## Readmission Label"
   ]
  },
  {
   "cell_type": "code",
   "execution_count": 23,
   "outputs": [
    {
     "name": "stdout",
     "output_type": "stream",
     "text": [
      "{'fit_time': array([0.00958109, 0.00808311, 0.00710988, 0.01073599, 0.00866795]), 'score_time': array([0.00852203, 0.00770187, 0.0075841 , 0.00975418, 0.00979185]), 'test_accuracy': array([0.93678161, 0.93641618, 0.91907514, 0.91907514, 0.9017341 ]), 'test_precision_weighted': array([0.94577688, 0.94066746, 0.91761259, 0.91995947, 0.90353349]), 'test_recall_weighted': array([0.93678161, 0.93641618, 0.91907514, 0.91907514, 0.9017341 ]), 'test_f1_weighted': array([0.93627191, 0.93695165, 0.9180463 , 0.91881243, 0.89737287]), 'test_roc_auc_ovr_weighted': array([0.96481494, 0.97366904, 0.96337845, 0.95375619, 0.95717993])}\n"
     ]
    }
   ],
   "source": [
    "yData = readm\n",
    "\n",
    "mvdd, scores = mvGen.generateTreeCrossValidation(xData=xData, yData=yData, classes=[\"1\", \"2\", \"3\", \"4\", \"5\"], \n",
    "                                  learningCriteria='gini', maxLevels=None, minSamplesPerLeaf=3, \n",
    "                                                 modelName='TreeFiles/AllData_Readmission', numFolds=5)\n",
    "print(scores)"
   ],
   "metadata": {
    "collapsed": false,
    "pycharm": {
     "name": "#%%\n"
    }
   }
  },
  {
   "cell_type": "code",
   "execution_count": 24,
   "outputs": [
    {
     "name": "stdout",
     "output_type": "stream",
     "text": [
      "Accuracy: 0.923 (+/- 0.026)\n",
      "Precision: 0.926 (+/- 0.031)\n",
      "Recall: 0.923 (+/- 0.026)\n",
      "F1: 0.921 (+/- 0.029)\n",
      "AUC: 0.963 (+/- 0.014)\n"
     ]
    }
   ],
   "source": [
    "accList = scores['test_accuracy']\n",
    "print(\"Accuracy: %0.3f (+/- %0.3f)\" % (accList.mean(), accList.std() * 2))\n",
    "precList = scores['test_precision_weighted']\n",
    "print(\"Precision: %0.3f (+/- %0.3f)\" % (precList.mean(), precList.std() * 2))\n",
    "recList = scores['test_recall_weighted']\n",
    "print(\"Recall: %0.3f (+/- %0.3f)\" % (recList.mean(), recList.std() * 2))\n",
    "f1List = scores['test_f1_weighted']\n",
    "print(\"F1: %0.3f (+/- %0.3f)\" % (f1List.mean(), f1List.std() * 2))\n",
    "rocList = scores['test_roc_auc_ovr_weighted']\n",
    "print(\"AUC: %0.3f (+/- %0.3f)\" % (rocList.mean(), rocList.std() * 2))"
   ],
   "metadata": {
    "collapsed": false,
    "pycharm": {
     "name": "#%%\n"
    }
   }
  },
  {
   "cell_type": "code",
   "execution_count": 24,
   "metadata": {},
   "outputs": [],
   "source": []
  },
  {
   "cell_type": "code",
   "execution_count": 25,
   "metadata": {
    "scrolled": true
   },
   "outputs": [
    {
     "name": "stdout",
     "output_type": "stream",
     "text": [
      "Accuracy: 0.923 (+/- 0.026)\n",
      "Precision: 0.926 (+/- 0.031)\n",
      "Recall: 0.923 (+/- 0.026)\n",
      "F1: 0.921 (+/- 0.029)\n",
      "AUC: 0.963 (+/- 0.014)\n"
     ]
    }
   ],
   "source": [
    "accList = scores['test_accuracy']\n",
    "print(\"Accuracy: %0.3f (+/- %0.3f)\" % (accList.mean(), accList.std() * 2))\n",
    "precList = scores['test_precision_weighted']\n",
    "print(\"Precision: %0.3f (+/- %0.3f)\" % (precList.mean(), precList.std() * 2))\n",
    "recList = scores['test_recall_weighted']\n",
    "print(\"Recall: %0.3f (+/- %0.3f)\" % (recList.mean(), recList.std() * 2))\n",
    "f1List = scores['test_f1_weighted']\n",
    "print(\"F1: %0.3f (+/- %0.3f)\" % (f1List.mean(), f1List.std() * 2))\n",
    "rocList = scores['test_roc_auc_ovr_weighted']\n",
    "print(\"AUC: %0.3f (+/- %0.3f)\" % (rocList.mean(), rocList.std() * 2))"
   ]
  },
  {
   "cell_type": "code",
   "execution_count": 25,
   "metadata": {},
   "outputs": [],
   "source": []
  }
 ],
 "metadata": {
  "kernelspec": {
   "display_name": "Python 3",
   "language": "python",
   "name": "python3"
  },
  "language_info": {
   "codemirror_mode": {
    "name": "ipython",
    "version": 3
   },
   "file_extension": ".py",
   "mimetype": "text/x-python",
   "name": "python",
   "nbconvert_exporter": "python",
   "pygments_lexer": "ipython3",
   "version": "3.8.3"
  },
  "pycharm": {
   "stem_cell": {
    "cell_type": "raw",
    "source": [
     "'''\n",
     "HemoPheno4HF\n",
     "SCRIPT DESCRIPTION: Code comparison to decision tree methods\n",
     "CODE DEVELOPED BY: Josephine Lamp\n",
     "ORGANIZATION: University of Virginia, Charlottesville, VA\n",
     "LAST UPDATED: 8/24/2020\n",
     "'''"
    ],
    "metadata": {
     "collapsed": false
    }
   }
  }
 },
 "nbformat": 4,
 "nbformat_minor": 4
}