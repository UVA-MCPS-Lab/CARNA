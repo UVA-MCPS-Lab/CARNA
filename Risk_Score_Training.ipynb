{
 "cells": [
  {
   "cell_type": "code",
   "execution_count": 1,
   "metadata": {},
   "outputs": [],
   "source": [
    "#Import packages\n",
    "import pandas as pd\n",
    "import numpy as np\n",
    "import matplotlib.pyplot as plt\n",
    "import seaborn as sns\n",
    "import copy\n",
    "import warnings\n",
    "from sklearn.model_selection import train_test_split\n",
    "import pickle\n",
    "from MVDD.MVDD import MVDD\n",
    "import MVDD.MVDD_Generator as mvGen\n",
    "\n",
    "plt.rc('font', size=12)\n",
    "warnings.filterwarnings('ignore')"
   ]
  },
  {
   "cell_type": "markdown",
   "metadata": {},
   "source": [
    "# Hemo"
   ]
  },
  {
   "cell_type": "code",
   "execution_count": 2,
   "metadata": {},
   "outputs": [
    {
     "data": {
      "text/html": [
       "<div>\n",
       "<style scoped>\n",
       "    .dataframe tbody tr th:only-of-type {\n",
       "        vertical-align: middle;\n",
       "    }\n",
       "\n",
       "    .dataframe tbody tr th {\n",
       "        vertical-align: top;\n",
       "    }\n",
       "\n",
       "    .dataframe thead th {\n",
       "        text-align: right;\n",
       "    }\n",
       "</style>\n",
       "<table border=\"1\" class=\"dataframe\">\n",
       "  <thead>\n",
       "    <tr style=\"text-align: right;\">\n",
       "      <th></th>\n",
       "      <th>RAP</th>\n",
       "      <th>PAS</th>\n",
       "      <th>PAD</th>\n",
       "      <th>PAMN</th>\n",
       "      <th>PCWP</th>\n",
       "      <th>PCWPMod</th>\n",
       "      <th>PCWPA</th>\n",
       "      <th>PCWPMN</th>\n",
       "      <th>CO</th>\n",
       "      <th>CI</th>\n",
       "      <th>...</th>\n",
       "      <th>PAPP</th>\n",
       "      <th>SVR</th>\n",
       "      <th>RAT</th>\n",
       "      <th>PPRatio</th>\n",
       "      <th>Age</th>\n",
       "      <th>EjF</th>\n",
       "      <th>Score</th>\n",
       "      <th>ScoreDeath</th>\n",
       "      <th>ScoreRehosp</th>\n",
       "      <th>ScoreReadmission</th>\n",
       "    </tr>\n",
       "    <tr>\n",
       "      <th>DEIDNUM</th>\n",
       "      <th></th>\n",
       "      <th></th>\n",
       "      <th></th>\n",
       "      <th></th>\n",
       "      <th></th>\n",
       "      <th></th>\n",
       "      <th></th>\n",
       "      <th></th>\n",
       "      <th></th>\n",
       "      <th></th>\n",
       "      <th></th>\n",
       "      <th></th>\n",
       "      <th></th>\n",
       "      <th></th>\n",
       "      <th></th>\n",
       "      <th></th>\n",
       "      <th></th>\n",
       "      <th></th>\n",
       "      <th></th>\n",
       "      <th></th>\n",
       "      <th></th>\n",
       "    </tr>\n",
       "  </thead>\n",
       "  <tbody>\n",
       "    <tr>\n",
       "      <th>72</th>\n",
       "      <td>24.0</td>\n",
       "      <td>42.0</td>\n",
       "      <td>24.0</td>\n",
       "      <td>30.0</td>\n",
       "      <td>36.0</td>\n",
       "      <td>36.0</td>\n",
       "      <td>36.0</td>\n",
       "      <td>36.0</td>\n",
       "      <td>2.20</td>\n",
       "      <td>1.60</td>\n",
       "      <td>...</td>\n",
       "      <td>0.428571</td>\n",
       "      <td>5357.575758</td>\n",
       "      <td>0.666667</td>\n",
       "      <td>0.266667</td>\n",
       "      <td>88.0</td>\n",
       "      <td>25.0</td>\n",
       "      <td>5</td>\n",
       "      <td>5</td>\n",
       "      <td>5</td>\n",
       "      <td>4</td>\n",
       "    </tr>\n",
       "    <tr>\n",
       "      <th>72</th>\n",
       "      <td>18.0</td>\n",
       "      <td>42.0</td>\n",
       "      <td>24.0</td>\n",
       "      <td>30.0</td>\n",
       "      <td>24.0</td>\n",
       "      <td>24.0</td>\n",
       "      <td>24.0</td>\n",
       "      <td>28.0</td>\n",
       "      <td>3.10</td>\n",
       "      <td>2.00</td>\n",
       "      <td>...</td>\n",
       "      <td>0.428571</td>\n",
       "      <td>3509.677419</td>\n",
       "      <td>0.750000</td>\n",
       "      <td>0.272727</td>\n",
       "      <td>88.0</td>\n",
       "      <td>25.0</td>\n",
       "      <td>3</td>\n",
       "      <td>3</td>\n",
       "      <td>4</td>\n",
       "      <td>2</td>\n",
       "    </tr>\n",
       "    <tr>\n",
       "      <th>81</th>\n",
       "      <td>10.0</td>\n",
       "      <td>40.0</td>\n",
       "      <td>20.0</td>\n",
       "      <td>27.0</td>\n",
       "      <td>18.0</td>\n",
       "      <td>18.0</td>\n",
       "      <td>18.0</td>\n",
       "      <td>20.0</td>\n",
       "      <td>4.52</td>\n",
       "      <td>2.02</td>\n",
       "      <td>...</td>\n",
       "      <td>0.500000</td>\n",
       "      <td>1982.300885</td>\n",
       "      <td>0.555556</td>\n",
       "      <td>0.242857</td>\n",
       "      <td>69.0</td>\n",
       "      <td>20.0</td>\n",
       "      <td>1</td>\n",
       "      <td>2</td>\n",
       "      <td>1</td>\n",
       "      <td>1</td>\n",
       "    </tr>\n",
       "    <tr>\n",
       "      <th>81</th>\n",
       "      <td>12.0</td>\n",
       "      <td>35.0</td>\n",
       "      <td>15.0</td>\n",
       "      <td>25.0</td>\n",
       "      <td>17.0</td>\n",
       "      <td>17.0</td>\n",
       "      <td>17.0</td>\n",
       "      <td>14.0</td>\n",
       "      <td>4.65</td>\n",
       "      <td>2.08</td>\n",
       "      <td>...</td>\n",
       "      <td>0.571429</td>\n",
       "      <td>1772.043011</td>\n",
       "      <td>0.705882</td>\n",
       "      <td>0.571429</td>\n",
       "      <td>69.0</td>\n",
       "      <td>20.0</td>\n",
       "      <td>1</td>\n",
       "      <td>2</td>\n",
       "      <td>1</td>\n",
       "      <td>1</td>\n",
       "    </tr>\n",
       "    <tr>\n",
       "      <th>814</th>\n",
       "      <td>3.0</td>\n",
       "      <td>51.0</td>\n",
       "      <td>19.0</td>\n",
       "      <td>30.0</td>\n",
       "      <td>18.0</td>\n",
       "      <td>18.0</td>\n",
       "      <td>18.0</td>\n",
       "      <td>18.0</td>\n",
       "      <td>4.10</td>\n",
       "      <td>2.00</td>\n",
       "      <td>...</td>\n",
       "      <td>0.627451</td>\n",
       "      <td>2621.138211</td>\n",
       "      <td>0.166667</td>\n",
       "      <td>0.566667</td>\n",
       "      <td>58.0</td>\n",
       "      <td>NaN</td>\n",
       "      <td>3</td>\n",
       "      <td>3</td>\n",
       "      <td>4</td>\n",
       "      <td>2</td>\n",
       "    </tr>\n",
       "    <tr>\n",
       "      <th>...</th>\n",
       "      <td>...</td>\n",
       "      <td>...</td>\n",
       "      <td>...</td>\n",
       "      <td>...</td>\n",
       "      <td>...</td>\n",
       "      <td>...</td>\n",
       "      <td>...</td>\n",
       "      <td>...</td>\n",
       "      <td>...</td>\n",
       "      <td>...</td>\n",
       "      <td>...</td>\n",
       "      <td>...</td>\n",
       "      <td>...</td>\n",
       "      <td>...</td>\n",
       "      <td>...</td>\n",
       "      <td>...</td>\n",
       "      <td>...</td>\n",
       "      <td>...</td>\n",
       "      <td>...</td>\n",
       "      <td>...</td>\n",
       "      <td>...</td>\n",
       "    </tr>\n",
       "    <tr>\n",
       "      <th>98508</th>\n",
       "      <td>NaN</td>\n",
       "      <td>NaN</td>\n",
       "      <td>NaN</td>\n",
       "      <td>NaN</td>\n",
       "      <td>NaN</td>\n",
       "      <td>NaN</td>\n",
       "      <td>NaN</td>\n",
       "      <td>NaN</td>\n",
       "      <td>NaN</td>\n",
       "      <td>NaN</td>\n",
       "      <td>...</td>\n",
       "      <td>NaN</td>\n",
       "      <td>NaN</td>\n",
       "      <td>NaN</td>\n",
       "      <td>NaN</td>\n",
       "      <td>57.0</td>\n",
       "      <td>30.0</td>\n",
       "      <td>4</td>\n",
       "      <td>4</td>\n",
       "      <td>3</td>\n",
       "      <td>5</td>\n",
       "    </tr>\n",
       "    <tr>\n",
       "      <th>99302</th>\n",
       "      <td>19.0</td>\n",
       "      <td>87.0</td>\n",
       "      <td>37.0</td>\n",
       "      <td>54.0</td>\n",
       "      <td>44.0</td>\n",
       "      <td>44.0</td>\n",
       "      <td>44.0</td>\n",
       "      <td>NaN</td>\n",
       "      <td>3.90</td>\n",
       "      <td>2.00</td>\n",
       "      <td>...</td>\n",
       "      <td>0.574713</td>\n",
       "      <td>2666.666667</td>\n",
       "      <td>0.431818</td>\n",
       "      <td>0.642857</td>\n",
       "      <td>41.0</td>\n",
       "      <td>15.0</td>\n",
       "      <td>5</td>\n",
       "      <td>5</td>\n",
       "      <td>5</td>\n",
       "      <td>4</td>\n",
       "    </tr>\n",
       "    <tr>\n",
       "      <th>99302</th>\n",
       "      <td>11.0</td>\n",
       "      <td>70.0</td>\n",
       "      <td>28.0</td>\n",
       "      <td>44.0</td>\n",
       "      <td>28.0</td>\n",
       "      <td>28.0</td>\n",
       "      <td>28.0</td>\n",
       "      <td>NaN</td>\n",
       "      <td>5.30</td>\n",
       "      <td>2.70</td>\n",
       "      <td>...</td>\n",
       "      <td>0.600000</td>\n",
       "      <td>2440.251572</td>\n",
       "      <td>0.392857</td>\n",
       "      <td>1.088608</td>\n",
       "      <td>41.0</td>\n",
       "      <td>15.0</td>\n",
       "      <td>3</td>\n",
       "      <td>3</td>\n",
       "      <td>4</td>\n",
       "      <td>2</td>\n",
       "    </tr>\n",
       "    <tr>\n",
       "      <th>99935</th>\n",
       "      <td>8.0</td>\n",
       "      <td>49.0</td>\n",
       "      <td>29.0</td>\n",
       "      <td>31.0</td>\n",
       "      <td>15.0</td>\n",
       "      <td>15.0</td>\n",
       "      <td>15.0</td>\n",
       "      <td>26.0</td>\n",
       "      <td>4.00</td>\n",
       "      <td>2.40</td>\n",
       "      <td>...</td>\n",
       "      <td>0.408163</td>\n",
       "      <td>3220.000000</td>\n",
       "      <td>0.533333</td>\n",
       "      <td>1.253333</td>\n",
       "      <td>64.0</td>\n",
       "      <td>20.0</td>\n",
       "      <td>3</td>\n",
       "      <td>3</td>\n",
       "      <td>4</td>\n",
       "      <td>2</td>\n",
       "    </tr>\n",
       "    <tr>\n",
       "      <th>99935</th>\n",
       "      <td>8.0</td>\n",
       "      <td>52.0</td>\n",
       "      <td>24.0</td>\n",
       "      <td>39.0</td>\n",
       "      <td>24.0</td>\n",
       "      <td>24.0</td>\n",
       "      <td>24.0</td>\n",
       "      <td>24.0</td>\n",
       "      <td>5.60</td>\n",
       "      <td>3.30</td>\n",
       "      <td>...</td>\n",
       "      <td>0.538462</td>\n",
       "      <td>1985.714286</td>\n",
       "      <td>0.333333</td>\n",
       "      <td>0.888889</td>\n",
       "      <td>64.0</td>\n",
       "      <td>20.0</td>\n",
       "      <td>3</td>\n",
       "      <td>3</td>\n",
       "      <td>4</td>\n",
       "      <td>2</td>\n",
       "    </tr>\n",
       "  </tbody>\n",
       "</table>\n",
       "<p>418 rows × 31 columns</p>\n",
       "</div>"
      ],
      "text/plain": [
       "          RAP   PAS   PAD  PAMN  PCWP  PCWPMod  PCWPA  PCWPMN    CO    CI  \\\n",
       "DEIDNUM                                                                     \n",
       "72       24.0  42.0  24.0  30.0  36.0     36.0   36.0    36.0  2.20  1.60   \n",
       "72       18.0  42.0  24.0  30.0  24.0     24.0   24.0    28.0  3.10  2.00   \n",
       "81       10.0  40.0  20.0  27.0  18.0     18.0   18.0    20.0  4.52  2.02   \n",
       "81       12.0  35.0  15.0  25.0  17.0     17.0   17.0    14.0  4.65  2.08   \n",
       "814       3.0  51.0  19.0  30.0  18.0     18.0   18.0    18.0  4.10  2.00   \n",
       "...       ...   ...   ...   ...   ...      ...    ...     ...   ...   ...   \n",
       "98508     NaN   NaN   NaN   NaN   NaN      NaN    NaN     NaN   NaN   NaN   \n",
       "99302    19.0  87.0  37.0  54.0  44.0     44.0   44.0     NaN  3.90  2.00   \n",
       "99302    11.0  70.0  28.0  44.0  28.0     28.0   28.0     NaN  5.30  2.70   \n",
       "99935     8.0  49.0  29.0  31.0  15.0     15.0   15.0    26.0  4.00  2.40   \n",
       "99935     8.0  52.0  24.0  39.0  24.0     24.0   24.0    24.0  5.60  3.30   \n",
       "\n",
       "         ...      PAPP          SVR       RAT   PPRatio   Age   EjF  Score  \\\n",
       "DEIDNUM  ...                                                                 \n",
       "72       ...  0.428571  5357.575758  0.666667  0.266667  88.0  25.0      5   \n",
       "72       ...  0.428571  3509.677419  0.750000  0.272727  88.0  25.0      3   \n",
       "81       ...  0.500000  1982.300885  0.555556  0.242857  69.0  20.0      1   \n",
       "81       ...  0.571429  1772.043011  0.705882  0.571429  69.0  20.0      1   \n",
       "814      ...  0.627451  2621.138211  0.166667  0.566667  58.0   NaN      3   \n",
       "...      ...       ...          ...       ...       ...   ...   ...    ...   \n",
       "98508    ...       NaN          NaN       NaN       NaN  57.0  30.0      4   \n",
       "99302    ...  0.574713  2666.666667  0.431818  0.642857  41.0  15.0      5   \n",
       "99302    ...  0.600000  2440.251572  0.392857  1.088608  41.0  15.0      3   \n",
       "99935    ...  0.408163  3220.000000  0.533333  1.253333  64.0  20.0      3   \n",
       "99935    ...  0.538462  1985.714286  0.333333  0.888889  64.0  20.0      3   \n",
       "\n",
       "         ScoreDeath  ScoreRehosp  ScoreReadmission  \n",
       "DEIDNUM                                             \n",
       "72                5            5                 4  \n",
       "72                3            4                 2  \n",
       "81                2            1                 1  \n",
       "81                2            1                 1  \n",
       "814               3            4                 2  \n",
       "...             ...          ...               ...  \n",
       "98508             4            3                 5  \n",
       "99302             5            5                 4  \n",
       "99302             3            4                 2  \n",
       "99935             3            4                 2  \n",
       "99935             3            4                 2  \n",
       "\n",
       "[418 rows x 31 columns]"
      ]
     },
     "execution_count": 2,
     "metadata": {},
     "output_type": "execute_result"
    }
   ],
   "source": [
    "#Load original dataframes\n",
    "hemoData = pd.read_csv('Data/Preprocessed Data/Cluster_Hemo.csv', index_col='DEIDNUM')\n",
    "allScores = hemoData['Score']\n",
    "death = hemoData['ScoreDeath']\n",
    "rehosp = hemoData['ScoreRehosp']\n",
    "readm = hemoData['ScoreReadmission']\n",
    "hemoData"
   ]
  },
  {
   "cell_type": "code",
   "execution_count": 3,
   "metadata": {},
   "outputs": [
    {
     "data": {
      "text/plain": [
       "((418, 27), (418,))"
      ]
     },
     "execution_count": 3,
     "metadata": {},
     "output_type": "execute_result"
    }
   ],
   "source": [
    "# Preprocess and create training and testing sets\n",
    "hemo = hemoData.drop('Score', axis=1)\n",
    "hemo = hemo.drop('ScoreDeath', axis=1)\n",
    "hemo = hemo.drop('ScoreRehosp', axis=1)\n",
    "hemo = hemo.drop('ScoreReadmission', axis=1)\n",
    "hemo = hemo.replace(np.inf, 0)\n",
    "hemo = hemo.fillna(0)\n",
    "\n",
    "xData = hemo\n",
    "yData = allScores\n",
    "xData.shape, yData.shape"
   ]
  },
  {
   "cell_type": "markdown",
   "metadata": {},
   "source": [
    "## All Scores Label"
   ]
  },
  {
   "cell_type": "code",
   "execution_count": 4,
   "metadata": {},
   "outputs": [],
   "source": [
    "# #Perform Grid search to find best parameter set\n",
    "# trialParams = {'criterion': ('gini', 'entropy'), 'max_depth': [3, 5, 7, 10, 13, 15, 20, 25, 30, None], \n",
    "#                'min_samples_leaf':[1, 2, 3, 4, 5, 6, 7, 8, 9, 10, 20, 30]}\n",
    "\n",
    "# mvGen.findBestModelParams(xData, yData, trialParams)"
   ]
  },
  {
   "cell_type": "code",
   "execution_count": null,
   "metadata": {
    "pycharm": {
     "is_executing": true
    },
    "scrolled": true
   },
   "outputs": [
    {
     "name": "stdout",
     "output_type": "stream",
     "text": [
      "\n",
      "Total edges: 74 Nonterminal Edge 36\n",
      "Must have more than 11 and less than 22 OR Edges\n"
     ]
    }
   ],
   "source": [
    "mvdd= mvGen.generateTreeCrossValidation(xData=xData, yData=yData, classes=[\"1\", \"2\", \"3\", \"4\", \"5\"], \n",
    "                                        learningCriteria='gini', maxLevels=None, minSamplesPerLeaf=1, \n",
    "                                        modelName='Hemo_AllOutcomes', numFolds=5, \n",
    "                                        showIndividualROC=True)"
   ]
  },
  {
   "cell_type": "code",
   "execution_count": null,
   "metadata": {
    "pycharm": {
     "is_executing": true
    }
   },
   "outputs": [],
   "source": [
    "# Get Feature importance\n",
    "featureDict = dict(zip(hemo.columns, mvdd.model.feature_importances_))\n",
    "featureImp = pd.DataFrame.from_dict(featureDict, orient='index')\n",
    "featureImp.rename(columns = {0:'Feature Importance'}, inplace = True)\n",
    "featureImp = featureImp.sort_values(by=['Feature Importance'], ascending=False)\n",
    "featureImp.head(10)"
   ]
  },
  {
   "cell_type": "markdown",
   "metadata": {
    "pycharm": {
     "name": "#%% md\n"
    }
   },
   "source": [
    "## Death Label"
   ]
  },
  {
   "cell_type": "code",
   "execution_count": null,
   "metadata": {
    "pycharm": {
     "is_executing": true,
     "name": "#%%\n"
    }
   },
   "outputs": [],
   "source": [
    "yData = death\n",
    "\n",
    "mvdd= mvGen.generateTreeCrossValidation(xData=xData, yData=yData, classes=[\"1\", \"2\", \"3\", \"4\", \"5\"], \n",
    "                                        learningCriteria='gini', maxLevels=None, minSamplesPerLeaf=1, \n",
    "                                        modelName='Hemo_Death', numFolds=5, \n",
    "                                        showIndividualROC=True)"
   ]
  },
  {
   "cell_type": "code",
   "execution_count": null,
   "metadata": {
    "pycharm": {
     "is_executing": true
    }
   },
   "outputs": [],
   "source": [
    "# Get Feature importance\n",
    "featureDict = dict(zip(hemo.columns, mvdd.model.feature_importances_))\n",
    "featureImp = pd.DataFrame.from_dict(featureDict, orient='index')\n",
    "featureImp.rename(columns = {0:'Feature Importance'}, inplace = True)\n",
    "featureImp = featureImp.sort_values(by=['Feature Importance'], ascending=False)\n",
    "featureImp.head(10)"
   ]
  },
  {
   "cell_type": "markdown",
   "metadata": {
    "pycharm": {
     "name": "#%% md\n"
    }
   },
   "source": [
    "## Rehospitalization Label"
   ]
  },
  {
   "cell_type": "code",
   "execution_count": null,
   "metadata": {
    "pycharm": {
     "is_executing": true
    }
   },
   "outputs": [],
   "source": [
    "yData = rehosp\n",
    "\n",
    "mvdd= mvGen.generateTreeCrossValidation(xData=xData, yData=yData, classes=[\"1\", \"2\", \"3\", \"4\", \"5\"], \n",
    "                                        learningCriteria='gini', maxLevels=None, minSamplesPerLeaf=1, \n",
    "                                        modelName='Hemo_Rehosp', numFolds=5, \n",
    "                                        showIndividualROC=True)"
   ]
  },
  {
   "cell_type": "code",
   "execution_count": null,
   "metadata": {
    "pycharm": {
     "is_executing": true
    }
   },
   "outputs": [],
   "source": [
    "# Get Feature importance\n",
    "featureDict = dict(zip(hemo.columns, mvdd.model.feature_importances_))\n",
    "featureImp = pd.DataFrame.from_dict(featureDict, orient='index')\n",
    "featureImp.rename(columns = {0:'Feature Importance'}, inplace = True)\n",
    "featureImp = featureImp.sort_values(by=['Feature Importance'], ascending=False)\n",
    "featureImp.head(10)"
   ]
  },
  {
   "cell_type": "markdown",
   "metadata": {
    "pycharm": {
     "name": "#%% md\n"
    }
   },
   "source": [
    "## Readmission Label"
   ]
  },
  {
   "cell_type": "code",
   "execution_count": null,
   "metadata": {
    "pycharm": {
     "is_executing": true,
     "name": "#%%\n"
    },
    "scrolled": true
   },
   "outputs": [],
   "source": [
    "yData = readm\n",
    "\n",
    "mvdd= mvGen.generateTreeCrossValidation(xData=xData, yData=yData, classes=[\"1\", \"2\", \"3\", \"4\", \"5\"], \n",
    "                                        learningCriteria='gini', maxLevels=None, minSamplesPerLeaf=1, \n",
    "                                        modelName='Hemo_Readmission', numFolds=5, \n",
    "                                        showIndividualROC=True)"
   ]
  },
  {
   "cell_type": "code",
   "execution_count": null,
   "metadata": {
    "pycharm": {
     "is_executing": true
    }
   },
   "outputs": [],
   "source": [
    "# Get Feature importance\n",
    "featureDict = dict(zip(hemo.columns, mvdd.model.feature_importances_))\n",
    "featureImp = pd.DataFrame.from_dict(featureDict, orient='index')\n",
    "featureImp.rename(columns = {0:'Feature Importance'}, inplace = True)\n",
    "featureImp = featureImp.sort_values(by=['Feature Importance'], ascending=False)\n",
    "featureImp.head(10)"
   ]
  },
  {
   "cell_type": "markdown",
   "metadata": {
    "pycharm": {
     "name": "#%% md\n"
    }
   },
   "source": [
    "# All Data"
   ]
  },
  {
   "cell_type": "code",
   "execution_count": null,
   "metadata": {
    "pycharm": {
     "is_executing": true
    }
   },
   "outputs": [],
   "source": [
    "#Load original dataframes\n",
    "allDataOrig = pd.read_csv('Data/Preprocessed Data/Cluster_AllData.csv', index_col='DEIDNUM')\n",
    "allScores = allDataOrig['Score']\n",
    "death = allDataOrig['ScoreDeath']\n",
    "rehosp = allDataOrig['ScoreRehosp']\n",
    "readm = allDataOrig['ScoreReadmission']\n",
    "\n",
    "allDataOrig"
   ]
  },
  {
   "cell_type": "code",
   "execution_count": null,
   "metadata": {
    "pycharm": {
     "is_executing": true,
     "name": "#%%\n"
    }
   },
   "outputs": [],
   "source": [
    "# Preprocess and create training and testing sets\n",
    "allData = allDataOrig.drop('Score', axis=1)\n",
    "allData = allData.drop('ScoreDeath', axis=1)\n",
    "allData = allData.drop('ScoreRehosp', axis=1)\n",
    "allData = allData.drop('ScoreReadmission', axis=1)\n",
    "allData = allData.replace(np.inf, 0)\n",
    "allData = allData.fillna(0)\n",
    "\n",
    "xData = allData\n",
    "yData = allScores"
   ]
  },
  {
   "cell_type": "code",
   "execution_count": null,
   "metadata": {
    "pycharm": {
     "is_executing": true,
     "name": "#%%\n"
    }
   },
   "outputs": [],
   "source": []
  },
  {
   "cell_type": "markdown",
   "metadata": {
    "pycharm": {
     "name": "#%% md\n"
    }
   },
   "source": [
    "## All Scores Label"
   ]
  },
  {
   "cell_type": "code",
   "execution_count": null,
   "metadata": {
    "pycharm": {
     "is_executing": true,
     "name": "#%%\n"
    }
   },
   "outputs": [],
   "source": [
    "#Perform Grid search to find best parameter set\n",
    "trialParams = {'criterion': ('gini', 'entropy'), 'max_depth': [3, 5, 7, 10, 13, 15, 20, 25, 30, None], \n",
    "               'min_samples_leaf':[1, 2, 3, 4, 5, 6, 7, 8, 9, 10, 20, 30]}\n",
    "\n",
    "mvGen.findBestModelParams(xData, yData, trialParams)"
   ]
  },
  {
   "cell_type": "code",
   "execution_count": null,
   "metadata": {
    "pycharm": {
     "is_executing": true
    },
    "scrolled": true
   },
   "outputs": [],
   "source": [
    "mvdd= mvGen.generateTreeCrossValidation(xData=xData, yData=yData, classes=[\"1\", \"2\", \"3\", \"4\", \"5\"], \n",
    "                                        learningCriteria='gini', maxLevels=None, minSamplesPerLeaf=1, \n",
    "                                        modelName='AllData_WConditions_AllOutcomes', numFolds=5, \n",
    "                                        showIndividualROC=True)"
   ]
  },
  {
   "cell_type": "code",
   "execution_count": null,
   "metadata": {
    "pycharm": {
     "is_executing": true
    }
   },
   "outputs": [],
   "source": [
    "# Get Feature importance\n",
    "featureDict = dict(zip(allData.columns, mvdd.model.feature_importances_))\n",
    "featureImp = pd.DataFrame.from_dict(featureDict, orient='index')\n",
    "featureImp.rename(columns = {0:'Feature Importance'}, inplace = True)\n",
    "featureImp = featureImp.sort_values(by=['Feature Importance'], ascending=False)\n",
    "featureImp.head(10)"
   ]
  },
  {
   "cell_type": "markdown",
   "metadata": {
    "pycharm": {
     "name": "#%% md\n"
    }
   },
   "source": [
    "## Death Label"
   ]
  },
  {
   "cell_type": "code",
   "execution_count": null,
   "metadata": {
    "pycharm": {
     "is_executing": true
    },
    "scrolled": true
   },
   "outputs": [],
   "source": [
    "yData = death\n",
    "\n",
    "mvdd= mvGen.generateTreeCrossValidation(xData=xData, yData=yData, classes=[\"1\", \"2\", \"3\", \"4\", \"5\"], \n",
    "                                        learningCriteria='gini', maxLevels=None, minSamplesPerLeaf=1, \n",
    "                                        modelName='AllData_WConditions_Death', numFolds=5, \n",
    "                                        showIndividualROC=True)"
   ]
  },
  {
   "cell_type": "code",
   "execution_count": null,
   "metadata": {
    "pycharm": {
     "is_executing": true
    }
   },
   "outputs": [],
   "source": [
    "# Get Feature importance\n",
    "featureDict = dict(zip(allData.columns, mvdd.model.feature_importances_))\n",
    "featureImp = pd.DataFrame.from_dict(featureDict, orient='index')\n",
    "featureImp.rename(columns = {0:'Feature Importance'}, inplace = True)\n",
    "featureImp = featureImp.sort_values(by=['Feature Importance'], ascending=False)\n",
    "featureImp.head(10)"
   ]
  },
  {
   "cell_type": "markdown",
   "metadata": {
    "pycharm": {
     "name": "#%% md\n"
    }
   },
   "source": [
    "## Rehospitalization Label"
   ]
  },
  {
   "cell_type": "code",
   "execution_count": null,
   "metadata": {
    "pycharm": {
     "is_executing": true
    }
   },
   "outputs": [],
   "source": [
    "yData = rehosp\n",
    "\n",
    "mvdd= mvGen.generateTreeCrossValidation(xData=xData, yData=yData, classes=[\"1\", \"2\", \"3\", \"4\", \"5\"], \n",
    "                                        learningCriteria='gini', maxLevels=None, minSamplesPerLeaf=1, \n",
    "                                        modelName='AllData_WConditions_Rehosp', numFolds=5, \n",
    "                                        showIndividualROC=True)"
   ]
  },
  {
   "cell_type": "code",
   "execution_count": null,
   "metadata": {
    "pycharm": {
     "is_executing": true
    }
   },
   "outputs": [],
   "source": [
    "# Get Feature importance\n",
    "featureDict = dict(zip(allData.columns, mvdd.model.feature_importances_))\n",
    "featureImp = pd.DataFrame.from_dict(featureDict, orient='index')\n",
    "featureImp.rename(columns = {0:'Feature Importance'}, inplace = True)\n",
    "featureImp = featureImp.sort_values(by=['Feature Importance'], ascending=False)\n",
    "featureImp.head(10)"
   ]
  },
  {
   "cell_type": "markdown",
   "metadata": {
    "pycharm": {
     "name": "#%% md\n"
    }
   },
   "source": [
    "## Readmission Label"
   ]
  },
  {
   "cell_type": "code",
   "execution_count": null,
   "metadata": {
    "pycharm": {
     "is_executing": true,
     "name": "#%%\n"
    }
   },
   "outputs": [],
   "source": [
    "yData = readm\n",
    "\n",
    "mvdd= mvGen.generateTreeCrossValidation(xData=xData, yData=yData, classes=[\"1\", \"2\", \"3\", \"4\", \"5\"], \n",
    "                                        learningCriteria='gini', maxLevels=None, minSamplesPerLeaf=1, \n",
    "                                        modelName='AllData_WConditions_Readmission', numFolds=5, \n",
    "                                        showIndividualROC=True)"
   ]
  },
  {
   "cell_type": "code",
   "execution_count": null,
   "metadata": {
    "pycharm": {
     "is_executing": true
    }
   },
   "outputs": [],
   "source": [
    "# Get Feature importance\n",
    "featureDict = dict(zip(allData.columns, mvdd.model.feature_importances_))\n",
    "featureImp = pd.DataFrame.from_dict(featureDict, orient='index')\n",
    "featureImp.rename(columns = {0:'Feature Importance'}, inplace = True)\n",
    "featureImp = featureImp.sort_values(by=['Feature Importance'], ascending=False)\n",
    "featureImp.head(10)"
   ]
  },
  {
   "cell_type": "markdown",
   "metadata": {},
   "source": [
    "# All Data without condition features"
   ]
  },
  {
   "cell_type": "code",
   "execution_count": null,
   "metadata": {
    "pycharm": {
     "is_executing": true,
     "name": "#%%\n"
    }
   },
   "outputs": [],
   "source": [
    "# Remove condition columns\n",
    "remCols= [ 'AlchE', 'ANGP', 'AOREG', 'AOST', 'CABG', 'CARREST', 'COPD', 'CVD', 'CYTOE', 'DEPR', 'DIAB', \n",
    "          'FAMILE', 'GOUT', 'HEPT', 'HTN', 'HTRANS', 'ICD',  'ISCHD', 'ISCHEME', 'MALIG', \n",
    "          'MTST', 'OTHUNE', 'PACE', 'PERIPAE', 'PMRG', 'PTCI', 'PTREG', 'PVD', 'RENALI', 'SMOKING', 'STERD', 'STROKE',\n",
    "          'SVT', 'TDP', 'TIA', 'VAHD', 'VALVUE', 'VF', 'ANGIO', 'AMR', 'ATE', 'BEN', 'BIS', 'BUM', 'CAND', 'CAP', \n",
    "          'CAR', 'DIGX', 'DIN', 'DOB', 'DOP', 'ENA', 'ETH', 'FOS', 'FUR', 'LIS', 'LOSA', 'MET', 'MIL', 'MON', 'NAT',\n",
    "          'NIG', 'NIP', 'OTHAA', 'OTHA', 'OTHB', 'OTHD', 'PRO', 'QUI', 'RAM', 'TOP', 'TOR', 'TRA', 'VALSA']\n",
    "\n",
    "for r in remCols: \n",
    "    allData = allData.drop(r, axis=1)\n",
    "\n",
    "\n",
    "xData = allData\n",
    "yData = allScores\n",
    "\n",
    "xData"
   ]
  },
  {
   "cell_type": "markdown",
   "metadata": {
    "pycharm": {
     "name": "#%% md\n"
    }
   },
   "source": [
    "## All Scores Label"
   ]
  },
  {
   "cell_type": "code",
   "execution_count": null,
   "metadata": {
    "pycharm": {
     "is_executing": true,
     "name": "#%%\n"
    }
   },
   "outputs": [],
   "source": [
    "#Perform Grid search to find best parameter set\n",
    "trialParams = {'criterion': ('gini', 'entropy'), 'max_depth': [3, 5, 7, 10, 13, 15, 20, 25, 30, None], \n",
    "               'min_samples_leaf':[1, 2, 3, 4, 5, 6, 7, 8, 9, 10, 20, 30]}\n",
    "\n",
    "mvGen.findBestModelParams(xData, yData, trialParams)"
   ]
  },
  {
   "cell_type": "code",
   "execution_count": null,
   "metadata": {
    "pycharm": {
     "is_executing": true
    },
    "scrolled": true
   },
   "outputs": [],
   "source": [
    "mvdd= mvGen.generateTreeCrossValidation(xData=xData, yData=yData, classes=[\"1\", \"2\", \"3\", \"4\", \"5\"], \n",
    "                                        learningCriteria='entropy', maxLevels=None, minSamplesPerLeaf=10, \n",
    "                                        modelName='AllData_AllOutcomes', numFolds=5, \n",
    "                                        showIndividualROC=True)"
   ]
  },
  {
   "cell_type": "code",
   "execution_count": null,
   "metadata": {
    "pycharm": {
     "is_executing": true
    }
   },
   "outputs": [],
   "source": [
    "# Get Feature importance\n",
    "featureDict = dict(zip(hemo.columns, mvdd.model.feature_importances_))\n",
    "featureImp = pd.DataFrame.from_dict(featureDict, orient='index')\n",
    "featureImp.rename(columns = {0:'Feature Importance'}, inplace = True)\n",
    "featureImp = featureImp.sort_values(by=['Feature Importance'], ascending=False)\n",
    "featureImp.head(10)"
   ]
  },
  {
   "cell_type": "markdown",
   "metadata": {
    "pycharm": {
     "name": "#%% md\n"
    }
   },
   "source": [
    "## Death Label"
   ]
  },
  {
   "cell_type": "code",
   "execution_count": null,
   "metadata": {
    "pycharm": {
     "is_executing": true
    },
    "scrolled": true
   },
   "outputs": [],
   "source": [
    "yData = death\n",
    "\n",
    "mvdd= mvGen.generateTreeCrossValidation(xData=xData, yData=yData, classes=[\"1\", \"2\", \"3\", \"4\", \"5\"], \n",
    "                                        learningCriteria='entropy', maxLevels=None, minSamplesPerLeaf=10, \n",
    "                                        modelName='AllData_Death', numFolds=5, \n",
    "                                        showIndividualROC=True)"
   ]
  },
  {
   "cell_type": "code",
   "execution_count": null,
   "metadata": {
    "pycharm": {
     "is_executing": true
    }
   },
   "outputs": [],
   "source": [
    "# Get Feature importance\n",
    "featureDict = dict(zip(hemo.columns, mvdd.model.feature_importances_))\n",
    "featureImp = pd.DataFrame.from_dict(featureDict, orient='index')\n",
    "featureImp.rename(columns = {0:'Feature Importance'}, inplace = True)\n",
    "featureImp = featureImp.sort_values(by=['Feature Importance'], ascending=False)\n",
    "featureImp.head(10)"
   ]
  },
  {
   "cell_type": "markdown",
   "metadata": {
    "pycharm": {
     "name": "#%% md\n"
    }
   },
   "source": [
    "## Rehospitalization Label"
   ]
  },
  {
   "cell_type": "code",
   "execution_count": null,
   "metadata": {
    "pycharm": {
     "is_executing": true
    }
   },
   "outputs": [],
   "source": [
    "yData = rehosp\n",
    "\n",
    "mvdd= mvGen.generateTreeCrossValidation(xData=xData, yData=yData, classes=[\"1\", \"2\", \"3\", \"4\", \"5\"], \n",
    "                                        learningCriteria='entropy', maxLevels=None, minSamplesPerLeaf=10, \n",
    "                                        modelName='AllData_Rehosp', numFolds=5, \n",
    "                                        showIndividualROC=True)"
   ]
  },
  {
   "cell_type": "code",
   "execution_count": null,
   "metadata": {
    "pycharm": {
     "is_executing": true
    }
   },
   "outputs": [],
   "source": [
    "# Get Feature importance\n",
    "featureDict = dict(zip(hemo.columns, mvdd.model.feature_importances_))\n",
    "featureImp = pd.DataFrame.from_dict(featureDict, orient='index')\n",
    "featureImp.rename(columns = {0:'Feature Importance'}, inplace = True)\n",
    "featureImp = featureImp.sort_values(by=['Feature Importance'], ascending=False)\n",
    "featureImp.head(10)"
   ]
  },
  {
   "cell_type": "markdown",
   "metadata": {
    "pycharm": {
     "name": "#%% md\n"
    }
   },
   "source": [
    "## Readmission Label"
   ]
  },
  {
   "cell_type": "code",
   "execution_count": null,
   "metadata": {
    "pycharm": {
     "is_executing": true,
     "name": "#%%\n"
    }
   },
   "outputs": [],
   "source": [
    "yData = readm\n",
    "\n",
    "mvdd= mvGen.generateTreeCrossValidation(xData=xData, yData=yData, classes=[\"1\", \"2\", \"3\", \"4\", \"5\"], \n",
    "                                        learningCriteria='entropy', maxLevels=None, minSamplesPerLeaf=10, \n",
    "                                        modelName='AllData_Readmission', numFolds=5, \n",
    "                                        showIndividualROC=True)"
   ]
  },
  {
   "cell_type": "code",
   "execution_count": null,
   "metadata": {
    "pycharm": {
     "is_executing": true
    }
   },
   "outputs": [],
   "source": [
    "# Get Feature importance\n",
    "featureDict = dict(zip(hemo.columns, mvdd.model.feature_importances_))\n",
    "featureImp = pd.DataFrame.from_dict(featureDict, orient='index')\n",
    "featureImp.rename(columns = {0:'Feature Importance'}, inplace = True)\n",
    "featureImp = featureImp.sort_values(by=['Feature Importance'], ascending=False)\n",
    "featureImp.head(10)"
   ]
  }
 ],
 "metadata": {
  "kernelspec": {
   "display_name": "Python 3",
   "language": "python",
   "name": "python3"
  },
  "language_info": {
   "codemirror_mode": {
    "name": "ipython",
    "version": 3
   },
   "file_extension": ".py",
   "mimetype": "text/x-python",
   "name": "python",
   "nbconvert_exporter": "python",
   "pygments_lexer": "ipython3",
   "version": "3.8.3"
  },
  "pycharm": {
   "stem_cell": {
    "cell_type": "raw",
    "metadata": {
     "collapsed": false
    },
    "source": [
     "'''\n",
     "HemoPheno4HF\n",
     "SCRIPT DESCRIPTION: Code comparison to decision tree methods\n",
     "CODE DEVELOPED BY: Josephine Lamp\n",
     "ORGANIZATION: University of Virginia, Charlottesville, VA\n",
     "LAST UPDATED: 8/24/2020\n",
     "'''"
    ]
   }
  }
 },
 "nbformat": 4,
 "nbformat_minor": 4
}
