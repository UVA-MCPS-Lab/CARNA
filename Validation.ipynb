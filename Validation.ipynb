{
 "cells": [
  {
   "cell_type": "code",
   "execution_count": null,
   "metadata": {},
   "outputs": [],
   "source": [
    "#Import packages\n",
    "import pandas as pd\n",
    "import numpy as np\n",
    "import matplotlib.pyplot as plt\n",
    "import seaborn as sns\n",
    "import copy\n",
    "import warnings\n",
    "from sklearn.model_selection import train_test_split\n",
    "from sklearn.metrics import f1_score,accuracy_score,recall_score,precision_score\n",
    "from sklearn.preprocessing import label_binarize\n",
    "import pickle\n",
    "from MVDD.MVDD import MVDD\n",
    "import MVDD.MVDD_Generator as mvGen\n",
    "\n",
    "%matplotlib inline\n",
    "\n",
    "plt.rc('font', size=12)\n",
    "warnings.filterwarnings('ignore')"
   ]
  },
  {
   "cell_type": "code",
   "execution_count": null,
   "metadata": {},
   "outputs": [],
   "source": [
    "#HELPER CODE\n",
    "\n",
    "#Validation Method\n",
    "def performValidation(model, data, realScores, aucName):\n",
    "    #DT Accuracy\n",
    "    print(\"*****DECISION TREE*****\")\n",
    "    y_pred = model.predictDTScoreSet(data)\n",
    "    \n",
    "    acc = accuracy_score(realScores,y_pred)\n",
    "    recall = recall_score(realScores,y_pred,average='weighted')\n",
    "    f1 = f1_score(realScores,y_pred,average='weighted')\n",
    "    prec = precision_score(realScores,y_pred,average='weighted')\n",
    "    \n",
    "    #ROC AUC Score\n",
    "    y_score = label_binarize(y_pred, classes=[1,2,3,4,5])\n",
    "    y_test = label_binarize(realScores, classes=[1,2,3,4,5])\n",
    "    fpr, tpr, roc_auc = mvGen.getClassROC(y_test,y_score)\n",
    "    \n",
    "    mvGen.getAverageROCGraph(fpr, tpr, roc_auc, aucName)\n",
    "\n",
    "    print(\"DT Accuracy:\", acc)\n",
    "    print(\"DT Recall:\", recall)\n",
    "    print(\"DT F1 Score:\", f1)\n",
    "    print(\"DT Precision:\", prec)\n",
    "    \n",
    "    #MVDD Accuracy\n",
    "    print(\"\\n*****MVDD*****\")\n",
    "    y_pred = model.predictScoreSet(data)\n",
    "    \n",
    "    acc = accuracy_score(realScores,y_pred)\n",
    "    recall = recall_score(realScores,y_pred,average='weighted')\n",
    "    f1 = f1_score(realScores,y_pred,average='weighted')\n",
    "    prec = precision_score(realScores,y_pred,average='weighted')\n",
    "    \n",
    "    #ROC AUC Score\n",
    "    y_score = label_binarize(y_pred, classes=[1,2,3,4,5])\n",
    "    y_test = label_binarize(realScores, classes=[1,2,3,4,5])\n",
    "    fpr, tpr, roc_auc = mvGen.getClassROC(y_test,y_score)\n",
    "    \n",
    "    mvGen.getAverageROCGraph(fpr, tpr, roc_auc, aucName)\n",
    "\n",
    "    print(\"Accuracy:\", acc)\n",
    "    print(\"Recall:\", recall)\n",
    "    print(\"F1 Score:\", f1)\n",
    "    print(\"Precision:\", prec)\n",
    "    \n",
    "    return acc, recall, f1, prec"
   ]
  },
  {
   "cell_type": "markdown",
   "metadata": {},
   "source": [
    "# Hemodynamic Model Validation"
   ]
  },
  {
   "cell_type": "markdown",
   "metadata": {},
   "source": [
    "## Label = Death\n",
    "Note: validation sets only have death labels to validate for hemo"
   ]
  },
  {
   "cell_type": "markdown",
   "metadata": {},
   "source": [
    "### Cardiogenic Shock"
   ]
  },
  {
   "cell_type": "code",
   "execution_count": null,
   "metadata": {},
   "outputs": [],
   "source": [
    "testModel = mvGen.loadMVDDFromFile('TreeFiles/Hemo_Death')"
   ]
  },
  {
   "cell_type": "code",
   "execution_count": null,
   "metadata": {
    "scrolled": true
   },
   "outputs": [],
   "source": [
    "hemoCohort = pd.read_csv(\"Data Validation/Cardiogenic Shock/Preprocessed Data/CardiogenicShock_Hemo.csv\", sep=\",\", index_col='ID')\n",
    "deathLabels = hemoCohort['ScoreDeath']\n",
    "\n",
    "hemo = hemoCohort.drop('ScoreDeath', axis=1)\n",
    "hemo = hemo.drop('Score', axis=1)\n",
    "hemo = hemo.drop('ScoreRehosp', axis=1)\n",
    "hemo = hemo.drop('ScoreReadmission', axis=1)\n",
    "hemo = hemo.replace(np.inf, 0)\n",
    "hemo = hemo.fillna(0)\n",
    "\n",
    "#get predicted scores from model\n",
    "acc, recall, f1, prec = performValidation(model=testModel, data=hemo, realScores=deathLabels, aucName='HemoCardShock')"
   ]
  },
  {
   "cell_type": "markdown",
   "metadata": {},
   "source": [
    "### Serial Cardiac"
   ]
  },
  {
   "cell_type": "code",
   "execution_count": null,
   "metadata": {},
   "outputs": [],
   "source": [
    "testModel = mvGen.loadMVDDFromFile('TreeFiles/Hemo_Death')"
   ]
  },
  {
   "cell_type": "code",
   "execution_count": null,
   "metadata": {
    "scrolled": true
   },
   "outputs": [],
   "source": [
    "hemoCohort = pd.read_csv(\"Data Validation/Serial Cardiac Caths/Preprocessed Data/SerialCardiac_Hemo.csv\", sep=\",\", index_col='ID')\n",
    "deathLabels = hemoCohort['ScoreDeath']\n",
    "\n",
    "hemo = hemoCohort.drop('ScoreDeath', axis=1)\n",
    "hemo = hemo.drop('Score', axis=1)\n",
    "hemo = hemo.drop('ScoreRehosp', axis=1)\n",
    "hemo = hemo.drop('ScoreReadmission', axis=1)\n",
    "hemo = hemo.replace(np.inf, 0)\n",
    "hemo = hemo.fillna(0)\n",
    "\n",
    "#get predicted scores from model\n",
    "acc, recall, f1, prec = performValidation(model=testModel, data=hemo, realScores=deathLabels, aucName='HemoSerialCardiac')"
   ]
  },
  {
   "cell_type": "markdown",
   "metadata": {},
   "source": [
    "# All Data Model Validation"
   ]
  },
  {
   "cell_type": "markdown",
   "metadata": {},
   "source": [
    "## Label = All Outcomes\n",
    "Note: only HF-Action has all outcome label"
   ]
  },
  {
   "cell_type": "markdown",
   "metadata": {
    "pycharm": {
     "is_executing": true
    }
   },
   "source": [
    "### HF-ACTION All Data Validation"
   ]
  },
  {
   "cell_type": "code",
   "execution_count": null,
   "metadata": {},
   "outputs": [],
   "source": [
    "testModel = mvGen.loadMVDDFromFile('TreeFiles/AllData_AllOutcomes')"
   ]
  },
  {
   "cell_type": "code",
   "execution_count": null,
   "metadata": {
    "scrolled": false
   },
   "outputs": [],
   "source": [
    "guideAllData = pd.read_csv(\"Data Validation/HF-ACTION/Preprocessed Data/HF-ACTION_AllData.csv\", sep=\",\", index_col='ID')\n",
    "labels = guideAllData['Score']\n",
    "\n",
    "allD = allD.drop('Score', axis=1)\n",
    "allD = guideAllData.drop('ScoreDeath', axis=1)\n",
    "allD = allD.drop('ScoreRehosp', axis=1)\n",
    "allD = allD.drop('ScoreReadmission', axis=1)\n",
    "allD = allD.replace(np.inf, 0)\n",
    "allD = allD.fillna(0)\n",
    "\n",
    "#get predicted scores from model\n",
    "acc, recall, f1, prec = performValidation(model=testModel, data=allD, realScores=labels, aucName='AllDataHFaction')"
   ]
  },
  {
   "cell_type": "markdown",
   "metadata": {},
   "source": [
    "## Label = Death\n",
    "Note: All Validation Datasets have the death label"
   ]
  },
  {
   "cell_type": "markdown",
   "metadata": {},
   "source": [
    "### Cardiogenic Shock All Data Validation"
   ]
  },
  {
   "cell_type": "code",
   "execution_count": null,
   "metadata": {},
   "outputs": [],
   "source": [
    "testModel = mvGen.loadMVDDFromFile('TreeFiles/AllData_Death')"
   ]
  },
  {
   "cell_type": "code",
   "execution_count": null,
   "metadata": {
    "scrolled": true
   },
   "outputs": [],
   "source": [
    "allDataCohort = pd.read_csv(\"Data Validation/Cardiogenic Shock/Preprocessed Data/CardiogenicShock_AllData.csv\", sep=\",\", index_col='ID')\n",
    "deathLabels = allDataCohort['ScoreDeath']\n",
    "\n",
    "ad = allDataCohort.drop('ScoreDeath', axis=1)\n",
    "ad = ad.drop('Score', axis=1)\n",
    "ad = ad.drop('ScoreRehosp', axis=1)\n",
    "ad = ad.drop('ScoreReadmission', axis=1)\n",
    "ad = ad.replace(np.inf, 0)\n",
    "ad = ad.fillna(0)\n",
    "\n",
    "#get predicted scores from model\n",
    "acc, recall, f1, prec = performValidation(model=testModel, data=ad, realScores=deathLabels, aucName='AllDataCardShock')"
   ]
  },
  {
   "cell_type": "markdown",
   "metadata": {},
   "source": [
    "### Serial Cardiac All Data Validation"
   ]
  },
  {
   "cell_type": "code",
   "execution_count": null,
   "metadata": {},
   "outputs": [],
   "source": [
    "testModel = mvGen.loadMVDDFromFile('TreeFiles/AllData_Death')"
   ]
  },
  {
   "cell_type": "code",
   "execution_count": null,
   "metadata": {
    "scrolled": false
   },
   "outputs": [],
   "source": [
    "allDataCohort = pd.read_csv(\"Data Validation/Serial Cardiac Caths/Preprocessed Data/SerialCardiac_AllData.csv\", sep=\",\", index_col='ID')\n",
    "deathLabels = allDataCohort['ScoreDeath']\n",
    "\n",
    "ad = allDataCohort.drop('ScoreDeath', axis=1)\n",
    "ad = ad.drop('Score', axis=1)\n",
    "ad = ad.drop('ScoreRehosp', axis=1)\n",
    "ad = ad.drop('ScoreReadmission', axis=1)\n",
    "ad = ad.replace(np.inf, 0)\n",
    "ad = ad.fillna(0)\n",
    "\n",
    "#get predicted scores from model\n",
    "acc, recall, f1, prec = performValidation(model=testModel, data=ad, realScores=deathLabels, aucName='AllDataSerialCardiac')"
   ]
  },
  {
   "cell_type": "markdown",
   "metadata": {
    "pycharm": {
     "is_executing": true
    }
   },
   "source": [
    "### HF-ACTION All Data Validation"
   ]
  },
  {
   "cell_type": "code",
   "execution_count": null,
   "metadata": {},
   "outputs": [],
   "source": [
    "testModel = mvGen.loadMVDDFromFile('TreeFiles/AllData_Death')"
   ]
  },
  {
   "cell_type": "code",
   "execution_count": null,
   "metadata": {
    "scrolled": false
   },
   "outputs": [],
   "source": [
    "guideAllData = pd.read_csv(\"Data Validation/HF-ACTION/Preprocessed Data/HF-ACTION_AllData.csv\", sep=\",\", index_col='ID')\n",
    "deathLabels = guideAllData['ScoreDeath']\n",
    "\n",
    "allD = guideAllData.drop('ScoreDeath', axis=1)\n",
    "allD = allD.drop('Score', axis=1)\n",
    "allD = allD.drop('ScoreRehosp', axis=1)\n",
    "allD = allD.drop('ScoreReadmission', axis=1)\n",
    "allD = allD.replace(np.inf, 0)\n",
    "allD = allD.fillna(0)\n",
    "\n",
    "#get predicted scores from model\n",
    "acc, recall, f1, prec = performValidation(model=testModel, data=allD, realScores=deathLabels, aucName='AllDataHFaction')"
   ]
  },
  {
   "cell_type": "markdown",
   "metadata": {
    "pycharm": {
     "is_executing": true
    }
   },
   "source": [
    "### BEST All Data Validation"
   ]
  },
  {
   "cell_type": "code",
   "execution_count": null,
   "metadata": {},
   "outputs": [],
   "source": [
    "testModel = mvGen.loadMVDDFromFile('TreeFiles/AllData_Death')"
   ]
  },
  {
   "cell_type": "code",
   "execution_count": null,
   "metadata": {
    "scrolled": false
   },
   "outputs": [],
   "source": [
    "guideAllData = pd.read_csv(\"Data Validation/BEST/Preprocessed Data/BEST_AllData.csv\", sep=\",\", index_col='ID')\n",
    "deathLabels = guideAllData['ScoreDeath']\n",
    "\n",
    "allD = guideAllData.drop('ScoreDeath', axis=1)\n",
    "allD = allD.drop('Score', axis=1)\n",
    "allD = allD.drop('ScoreRehosp', axis=1)\n",
    "allD = allD.drop('ScoreReadmission', axis=1)\n",
    "allD = allD.replace(np.inf, 0)\n",
    "allD = allD.fillna(0)\n",
    "\n",
    "#get predicted scores from model\n",
    "acc, recall, f1, prec = performValidation(model=testModel, data=allD, realScores=deathLabels, aucName='AllDataBest')"
   ]
  },
  {
   "cell_type": "markdown",
   "metadata": {
    "pycharm": {
     "is_executing": true
    }
   },
   "source": [
    "### GUIDE-IT All Data Validation"
   ]
  },
  {
   "cell_type": "code",
   "execution_count": null,
   "metadata": {},
   "outputs": [],
   "source": [
    "testModel = mvGen.loadMVDDFromFile('TreeFiles/AllData_Death')"
   ]
  },
  {
   "cell_type": "code",
   "execution_count": null,
   "metadata": {
    "scrolled": false
   },
   "outputs": [],
   "source": [
    "guideAllData = pd.read_csv(\"Data Validation/GUIDE-IT/Preprocessed Data/GUIDE-IT_AllData.csv\", sep=\",\", index_col='ID')\n",
    "deathLabels = guideAllData['ScoreDeath']\n",
    "\n",
    "allD = guideAllData.drop('ScoreDeath', axis=1)\n",
    "allD = allD.drop('Score', axis=1)\n",
    "allD = allD.drop('ScoreRehosp', axis=1)\n",
    "allD = allD.drop('ScoreReadmission', axis=1)\n",
    "allD = allD.replace(np.inf, 0)\n",
    "allD = allD.fillna(0)\n",
    "\n",
    "#get predicted scores from model\n",
    "acc, recall, f1, prec = performValidation(model=testModel, data=allD, realScores=deathLabels, aucName='AllDataGuideIt')"
   ]
  },
  {
   "cell_type": "markdown",
   "metadata": {},
   "source": [
    "## Label = Rehospitalization\n",
    "Note: Only HF-ACTION, BEST and GUIDE-IT have rehosp"
   ]
  },
  {
   "cell_type": "markdown",
   "metadata": {
    "pycharm": {
     "is_executing": true
    }
   },
   "source": [
    "### HF-ACTION All Data Validation"
   ]
  },
  {
   "cell_type": "code",
   "execution_count": null,
   "metadata": {},
   "outputs": [],
   "source": [
    "testModel = mvGen.loadMVDDFromFile('TreeFiles/AllData_Rehosp')"
   ]
  },
  {
   "cell_type": "code",
   "execution_count": null,
   "metadata": {
    "scrolled": false
   },
   "outputs": [],
   "source": [
    "guideAllData = pd.read_csv(\"Data Validation/HF-ACTION/Preprocessed Data/HF-ACTION_AllData.csv\", sep=\",\", index_col='ID')\n",
    "labels = guideAllData['ScoreRehosp']\n",
    "\n",
    "allD = guideAllData.drop('ScoreDeath', axis=1)\n",
    "allD = allD.drop('Score', axis=1)\n",
    "allD = allD.drop('ScoreRehosp', axis=1)\n",
    "allD = allD.drop('ScoreReadmission', axis=1)\n",
    "allD = allD.replace(np.inf, 0)\n",
    "allD = allD.fillna(0)\n",
    "\n",
    "#get predicted scores from model\n",
    "acc, recall, f1, prec = performValidation(model=testModel, data=allD, realScores=labels, aucName='AllDataHFaction')"
   ]
  },
  {
   "cell_type": "markdown",
   "metadata": {
    "pycharm": {
     "is_executing": true
    }
   },
   "source": [
    "### BEST All Data Validation"
   ]
  },
  {
   "cell_type": "code",
   "execution_count": null,
   "metadata": {},
   "outputs": [],
   "source": [
    "testModel = mvGen.loadMVDDFromFile('TreeFiles/AllData_Rehosp')"
   ]
  },
  {
   "cell_type": "code",
   "execution_count": null,
   "metadata": {
    "scrolled": false
   },
   "outputs": [],
   "source": [
    "guideAllData = pd.read_csv(\"Data Validation/BEST/Preprocessed Data/BEST_AllData.csv\", sep=\",\", index_col='ID')\n",
    "labels = guideAllData['ScoreRehosp']\n",
    "\n",
    "allD = guideAllData.drop('ScoreDeath', axis=1)\n",
    "allD = allD.drop('Score', axis=1)\n",
    "allD = allD.drop('ScoreRehosp', axis=1)\n",
    "allD = allD.drop('ScoreReadmission', axis=1)\n",
    "allD = allD.replace(np.inf, 0)\n",
    "allD = allD.fillna(0)\n",
    "\n",
    "#get predicted scores from model\n",
    "acc, recall, f1, prec = performValidation(model=testModel, data=allD, realScores=labels, aucName='AllDataBest')"
   ]
  },
  {
   "cell_type": "markdown",
   "metadata": {
    "pycharm": {
     "is_executing": true
    }
   },
   "source": [
    "### GUIDE-IT All Data Validation"
   ]
  },
  {
   "cell_type": "code",
   "execution_count": null,
   "metadata": {},
   "outputs": [],
   "source": [
    "testModel = mvGen.loadMVDDFromFile('TreeFiles/AllData_Rehosp')"
   ]
  },
  {
   "cell_type": "code",
   "execution_count": null,
   "metadata": {
    "scrolled": false
   },
   "outputs": [],
   "source": [
    "guideAllData = pd.read_csv(\"Data Validation/GUIDE-IT/Preprocessed Data/GUIDE-IT_AllData.csv\", sep=\",\", index_col='ID')\n",
    "labels = guideAllData['ScoreRehosp']\n",
    "\n",
    "allD = guideAllData.drop('ScoreDeath', axis=1)\n",
    "allD = allD.drop('Score', axis=1)\n",
    "allD = allD.drop('ScoreRehosp', axis=1)\n",
    "allD = allD.drop('ScoreReadmission', axis=1)\n",
    "allD = allD.replace(np.inf, 0)\n",
    "allD = allD.fillna(0)\n",
    "\n",
    "#get predicted scores from model\n",
    "acc, recall, f1, prec = performValidation(model=testModel, data=allD, realScores=labels, aucName='AllDataGuideIt')"
   ]
  },
  {
   "cell_type": "markdown",
   "metadata": {},
   "source": [
    "## Label = Readmission\n",
    "Note: only HF-ACTION has readm"
   ]
  },
  {
   "cell_type": "markdown",
   "metadata": {
    "pycharm": {
     "is_executing": true
    }
   },
   "source": [
    "### HF-ACTION All Data Validation"
   ]
  },
  {
   "cell_type": "code",
   "execution_count": null,
   "metadata": {},
   "outputs": [],
   "source": [
    "testModel = mvGen.loadMVDDFromFile('TreeFiles/AllData_Readmission')"
   ]
  },
  {
   "cell_type": "code",
   "execution_count": null,
   "metadata": {
    "scrolled": false
   },
   "outputs": [],
   "source": [
    "guideAllData = pd.read_csv(\"Data Validation/HF-ACTION/Preprocessed Data/HF-ACTION_AllData.csv\", sep=\",\", index_col='ID')\n",
    "labels = guideAllData['ScoreReadmission']\n",
    "\n",
    "allD = guideAllData.drop('ScoreDeath', axis=1)\n",
    "allD = allD.drop('Score', axis=1)\n",
    "allD = allD.drop('ScoreRehosp', axis=1)\n",
    "allD = allD.drop('ScoreReadmission', axis=1)\n",
    "allD = allD.replace(np.inf, 0)\n",
    "allD = allD.fillna(0)\n",
    "\n",
    "#get predicted scores from model\n",
    "acc, recall, f1, prec = performValidation(model=testModel, data=allD, realScores=labels, aucName='AllDataHFaction')"
   ]
  },
  {
   "cell_type": "code",
   "execution_count": null,
   "metadata": {},
   "outputs": [],
   "source": []
  }
 ],
 "metadata": {
  "kernelspec": {
   "display_name": "Python 3",
   "language": "python",
   "name": "python3"
  },
  "language_info": {
   "codemirror_mode": {
    "name": "ipython",
    "version": 3
   },
   "file_extension": ".py",
   "mimetype": "text/x-python",
   "name": "python",
   "nbconvert_exporter": "python",
   "pygments_lexer": "ipython3",
   "version": "3.8.3"
  }
 },
 "nbformat": 4,
 "nbformat_minor": 4
}