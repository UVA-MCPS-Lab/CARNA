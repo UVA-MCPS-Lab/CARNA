{
 "cells": [
  {
   "cell_type": "code",
   "execution_count": 1,
   "metadata": {},
   "outputs": [],
   "source": [
    "#Import packages\n",
    "import pandas as pd\n",
    "import numpy as np\n",
    "import matplotlib.pyplot as plt\n",
    "import seaborn as sns\n",
    "import copy\n",
    "import warnings\n",
    "\n",
    "plt.rc('font', size=12)\n",
    "warnings.filterwarnings('ignore')"
   ]
  },
  {
   "cell_type": "code",
   "execution_count": 2,
   "metadata": {},
   "outputs": [],
   "source": [
    "#Load ESCAPE training data\n",
    "escapeAllData = pd.read_csv(\"Data/Original DataFrames/AllDataSingleValue.csv\", sep=\",\", index_col='DEIDNUM').sort_index() #all feature dataset\n",
    "escapeHemo = pd.read_csv(\"Data/Original DataFrames/HemoSingleValue.csv\", sep=\",\", index_col='DEIDNUM').sort_index() #dataset with only hemodynamics\n",
    "escapeLabels  = pd.read_csv(\"Data/Original DataFrames/Labels.csv\", sep=\",\", index_col='DEIDNUM').sort_index() #labels for prediction classes \n",
    "\n",
    "#Cardiogenic Shock\n",
    "cardShockHemo = pd.read_csv(\"Data Validation/Cardiogenic Shock/Original DataFrames/HemoCardiogenicShock.csv\", sep=\",\", index_col='ID').sort_index()\n",
    "cardShockAllData = pd.read_csv(\"Data Validation/Cardiogenic Shock/Original DataFrames/AllDataCardiogenicShock.csv\", sep=\",\", index_col='ID').sort_index()\n",
    "cardShockHemoLabels = pd.read_csv(\"Data Validation/Cardiogenic Shock/Original DataFrames/HemoLabelsCardiogenicShock.csv\", sep=\",\", index_col='ID').sort_index()\n",
    "cardShockLabels = pd.read_csv(\"Data Validation/Cardiogenic Shock/Original DataFrames/LabelsCardiogenicShock.csv\", sep=\",\", index_col='ID').sort_index()\n",
    "\n",
    "#Serial Cardiac\n",
    "serialHemo = pd.read_csv(\"Data Validation/Serial Cardiac Caths/Original DataFrames/HemoSerialCardiac.csv\", sep=\",\", index_col='ID').sort_index()\n",
    "serialAllData = pd.read_csv(\"Data Validation/Serial Cardiac Caths/Original DataFrames/AllDataSerialCardiac.csv\", sep=\",\", index_col='ID').sort_index()\n",
    "serialHemoLabels = pd.read_csv(\"Data Validation/Serial Cardiac Caths/Original DataFrames/HemoLabelsSerialCardiac.csv\", sep=\",\", index_col='ID').sort_index()\n",
    "serialLabels = pd.read_csv(\"Data Validation/Serial Cardiac Caths/Original DataFrames/LabelsSerialCardiac.csv\", sep=\",\", index_col='ID').sort_index()\n",
    "\n",
    "#HF-ACTION\n",
    "hfactionAllData = pd.read_csv(\"Data Validation/HF-ACTION/Original DataFrames/AllDataHF-ACTION.csv\", sep=\",\", index_col='ID').sort_index()\n",
    "hfactionLabels = pd.read_csv(\"Data Validation/HF-ACTION/Original DataFrames/LabelsHF-ACTION.csv\", sep=\",\", index_col='ID').sort_index()\n",
    "\n",
    "#BEST\n",
    "bestAllData = pd.read_csv(\"Data Validation/BEST/Original DataFrames/AllDataBEST.csv\", sep=\",\", index_col='ID').sort_index()\n",
    "bestLabels = pd.read_csv(\"Data Validation/BEST/Original DataFrames/LabelsBEST.csv\", sep=\",\", index_col='ID').sort_index()\n",
    "\n",
    "#Guide it\n",
    "guideAllData = pd.read_csv(\"Data Validation/GUIDE-IT/Original DataFrames/AllDataGUIDE-IT.csv\", sep=\",\", index_col='ID').sort_index()\n",
    "guideLabels = pd.read_csv(\"Data Validation/GUIDE-IT/Original DataFrames/LabelsGUIDE-IT.csv\", sep=\",\", index_col='ID').sort_index()\n"
   ]
  },
  {
   "cell_type": "code",
   "execution_count": 3,
   "metadata": {},
   "outputs": [
    {
     "data": {
      "text/html": [
       "<div>\n",
       "<style scoped>\n",
       "    .dataframe tbody tr th:only-of-type {\n",
       "        vertical-align: middle;\n",
       "    }\n",
       "\n",
       "    .dataframe tbody tr th {\n",
       "        vertical-align: top;\n",
       "    }\n",
       "\n",
       "    .dataframe thead th {\n",
       "        text-align: right;\n",
       "    }\n",
       "</style>\n",
       "<table border=\"1\" class=\"dataframe\">\n",
       "  <thead>\n",
       "    <tr style=\"text-align: right;\">\n",
       "      <th></th>\n",
       "      <th>Age</th>\n",
       "      <th>Gender</th>\n",
       "      <th>Race</th>\n",
       "      <th>EjF</th>\n",
       "      <th>RAP</th>\n",
       "      <th>PAS</th>\n",
       "      <th>PAD</th>\n",
       "      <th>PAMN</th>\n",
       "      <th>PCWP</th>\n",
       "      <th>CO</th>\n",
       "      <th>...</th>\n",
       "      <th>PP</th>\n",
       "      <th>PPP</th>\n",
       "      <th>PAPP</th>\n",
       "      <th>SVR</th>\n",
       "      <th>RAT</th>\n",
       "      <th>PPRatio</th>\n",
       "      <th>PAPi</th>\n",
       "      <th>SAPi</th>\n",
       "      <th>CPP</th>\n",
       "      <th>PRAPRat</th>\n",
       "    </tr>\n",
       "  </thead>\n",
       "  <tbody>\n",
       "    <tr>\n",
       "      <th>count</th>\n",
       "      <td>418.000000</td>\n",
       "      <td>418.000000</td>\n",
       "      <td>418.000000</td>\n",
       "      <td>404.000000</td>\n",
       "      <td>376.000000</td>\n",
       "      <td>369.000000</td>\n",
       "      <td>369.000000</td>\n",
       "      <td>378.000000</td>\n",
       "      <td>351.000000</td>\n",
       "      <td>365.000000</td>\n",
       "      <td>...</td>\n",
       "      <td>377.000000</td>\n",
       "      <td>377.000000</td>\n",
       "      <td>369.000000</td>\n",
       "      <td>355.000000</td>\n",
       "      <td>344.000000</td>\n",
       "      <td>377.000000</td>\n",
       "      <td>362.000000</td>\n",
       "      <td>345.000000</td>\n",
       "      <td>380.000000</td>\n",
       "      <td>369.000000</td>\n",
       "    </tr>\n",
       "    <tr>\n",
       "      <th>mean</th>\n",
       "      <td>56.789474</td>\n",
       "      <td>1.263158</td>\n",
       "      <td>3.885167</td>\n",
       "      <td>19.400990</td>\n",
       "      <td>11.686170</td>\n",
       "      <td>50.867209</td>\n",
       "      <td>24.298103</td>\n",
       "      <td>33.730159</td>\n",
       "      <td>21.404558</td>\n",
       "      <td>4.299151</td>\n",
       "      <td>...</td>\n",
       "      <td>43.954907</td>\n",
       "      <td>0.409138</td>\n",
       "      <td>0.523738</td>\n",
       "      <td>2852.094746</td>\n",
       "      <td>inf</td>\n",
       "      <td>0.606385</td>\n",
       "      <td>inf</td>\n",
       "      <td>inf</td>\n",
       "      <td>40.678947</td>\n",
       "      <td>inf</td>\n",
       "    </tr>\n",
       "    <tr>\n",
       "      <th>std</th>\n",
       "      <td>13.492824</td>\n",
       "      <td>0.440875</td>\n",
       "      <td>14.779473</td>\n",
       "      <td>6.841169</td>\n",
       "      <td>8.724061</td>\n",
       "      <td>14.290132</td>\n",
       "      <td>8.824867</td>\n",
       "      <td>11.106248</td>\n",
       "      <td>8.936371</td>\n",
       "      <td>1.768310</td>\n",
       "      <td>...</td>\n",
       "      <td>16.354471</td>\n",
       "      <td>0.144257</td>\n",
       "      <td>0.101996</td>\n",
       "      <td>1222.825988</td>\n",
       "      <td>NaN</td>\n",
       "      <td>0.651917</td>\n",
       "      <td>NaN</td>\n",
       "      <td>NaN</td>\n",
       "      <td>13.793313</td>\n",
       "      <td>NaN</td>\n",
       "    </tr>\n",
       "    <tr>\n",
       "      <th>min</th>\n",
       "      <td>23.000000</td>\n",
       "      <td>1.000000</td>\n",
       "      <td>1.000000</td>\n",
       "      <td>0.000000</td>\n",
       "      <td>0.000000</td>\n",
       "      <td>20.000000</td>\n",
       "      <td>5.000000</td>\n",
       "      <td>1.000000</td>\n",
       "      <td>0.000000</td>\n",
       "      <td>1.200000</td>\n",
       "      <td>...</td>\n",
       "      <td>-55.000000</td>\n",
       "      <td>-0.833333</td>\n",
       "      <td>0.230769</td>\n",
       "      <td>381.866667</td>\n",
       "      <td>0.000000</td>\n",
       "      <td>-0.887097</td>\n",
       "      <td>0.433333</td>\n",
       "      <td>-1.851852</td>\n",
       "      <td>10.000000</td>\n",
       "      <td>-8.333333</td>\n",
       "    </tr>\n",
       "    <tr>\n",
       "      <th>25%</th>\n",
       "      <td>48.000000</td>\n",
       "      <td>1.000000</td>\n",
       "      <td>1.000000</td>\n",
       "      <td>15.000000</td>\n",
       "      <td>6.000000</td>\n",
       "      <td>40.000000</td>\n",
       "      <td>18.000000</td>\n",
       "      <td>26.000000</td>\n",
       "      <td>15.000000</td>\n",
       "      <td>3.250000</td>\n",
       "      <td>...</td>\n",
       "      <td>35.000000</td>\n",
       "      <td>0.345238</td>\n",
       "      <td>0.444444</td>\n",
       "      <td>2050.122585</td>\n",
       "      <td>0.333333</td>\n",
       "      <td>0.406977</td>\n",
       "      <td>1.666667</td>\n",
       "      <td>1.400000</td>\n",
       "      <td>32.000000</td>\n",
       "      <td>2.550000</td>\n",
       "    </tr>\n",
       "    <tr>\n",
       "      <th>50%</th>\n",
       "      <td>57.000000</td>\n",
       "      <td>1.000000</td>\n",
       "      <td>1.000000</td>\n",
       "      <td>20.000000</td>\n",
       "      <td>10.000000</td>\n",
       "      <td>50.000000</td>\n",
       "      <td>24.000000</td>\n",
       "      <td>33.000000</td>\n",
       "      <td>20.000000</td>\n",
       "      <td>4.100000</td>\n",
       "      <td>...</td>\n",
       "      <td>43.000000</td>\n",
       "      <td>0.418182</td>\n",
       "      <td>0.519231</td>\n",
       "      <td>2620.952381</td>\n",
       "      <td>0.500000</td>\n",
       "      <td>0.537500</td>\n",
       "      <td>2.641711</td>\n",
       "      <td>2.166667</td>\n",
       "      <td>38.000000</td>\n",
       "      <td>4.500000</td>\n",
       "    </tr>\n",
       "    <tr>\n",
       "      <th>75%</th>\n",
       "      <td>66.000000</td>\n",
       "      <td>2.000000</td>\n",
       "      <td>2.000000</td>\n",
       "      <td>25.000000</td>\n",
       "      <td>15.250000</td>\n",
       "      <td>60.000000</td>\n",
       "      <td>29.000000</td>\n",
       "      <td>40.000000</td>\n",
       "      <td>27.000000</td>\n",
       "      <td>5.100000</td>\n",
       "      <td>...</td>\n",
       "      <td>52.000000</td>\n",
       "      <td>0.477778</td>\n",
       "      <td>0.595238</td>\n",
       "      <td>3277.893970</td>\n",
       "      <td>0.670000</td>\n",
       "      <td>0.720000</td>\n",
       "      <td>4.000000</td>\n",
       "      <td>3.333333</td>\n",
       "      <td>50.000000</td>\n",
       "      <td>7.500000</td>\n",
       "    </tr>\n",
       "    <tr>\n",
       "      <th>max</th>\n",
       "      <td>88.000000</td>\n",
       "      <td>2.000000</td>\n",
       "      <td>98.000000</td>\n",
       "      <td>45.000000</td>\n",
       "      <td>85.000000</td>\n",
       "      <td>90.000000</td>\n",
       "      <td>59.000000</td>\n",
       "      <td>82.000000</td>\n",
       "      <td>53.000000</td>\n",
       "      <td>25.000000</td>\n",
       "      <td>...</td>\n",
       "      <td>106.000000</td>\n",
       "      <td>0.736842</td>\n",
       "      <td>0.844444</td>\n",
       "      <td>10755.555556</td>\n",
       "      <td>inf</td>\n",
       "      <td>9.666667</td>\n",
       "      <td>inf</td>\n",
       "      <td>inf</td>\n",
       "      <td>83.000000</td>\n",
       "      <td>inf</td>\n",
       "    </tr>\n",
       "  </tbody>\n",
       "</table>\n",
       "<p>8 rows × 28 columns</p>\n",
       "</div>"
      ],
      "text/plain": [
       "              Age      Gender        Race         EjF         RAP         PAS  \\\n",
       "count  418.000000  418.000000  418.000000  404.000000  376.000000  369.000000   \n",
       "mean    56.789474    1.263158    3.885167   19.400990   11.686170   50.867209   \n",
       "std     13.492824    0.440875   14.779473    6.841169    8.724061   14.290132   \n",
       "min     23.000000    1.000000    1.000000    0.000000    0.000000   20.000000   \n",
       "25%     48.000000    1.000000    1.000000   15.000000    6.000000   40.000000   \n",
       "50%     57.000000    1.000000    1.000000   20.000000   10.000000   50.000000   \n",
       "75%     66.000000    2.000000    2.000000   25.000000   15.250000   60.000000   \n",
       "max     88.000000    2.000000   98.000000   45.000000   85.000000   90.000000   \n",
       "\n",
       "              PAD        PAMN        PCWP          CO  ...          PP  \\\n",
       "count  369.000000  378.000000  351.000000  365.000000  ...  377.000000   \n",
       "mean    24.298103   33.730159   21.404558    4.299151  ...   43.954907   \n",
       "std      8.824867   11.106248    8.936371    1.768310  ...   16.354471   \n",
       "min      5.000000    1.000000    0.000000    1.200000  ...  -55.000000   \n",
       "25%     18.000000   26.000000   15.000000    3.250000  ...   35.000000   \n",
       "50%     24.000000   33.000000   20.000000    4.100000  ...   43.000000   \n",
       "75%     29.000000   40.000000   27.000000    5.100000  ...   52.000000   \n",
       "max     59.000000   82.000000   53.000000   25.000000  ...  106.000000   \n",
       "\n",
       "              PPP        PAPP           SVR         RAT     PPRatio  \\\n",
       "count  377.000000  369.000000    355.000000  344.000000  377.000000   \n",
       "mean     0.409138    0.523738   2852.094746         inf    0.606385   \n",
       "std      0.144257    0.101996   1222.825988         NaN    0.651917   \n",
       "min     -0.833333    0.230769    381.866667    0.000000   -0.887097   \n",
       "25%      0.345238    0.444444   2050.122585    0.333333    0.406977   \n",
       "50%      0.418182    0.519231   2620.952381    0.500000    0.537500   \n",
       "75%      0.477778    0.595238   3277.893970    0.670000    0.720000   \n",
       "max      0.736842    0.844444  10755.555556         inf    9.666667   \n",
       "\n",
       "             PAPi        SAPi         CPP     PRAPRat  \n",
       "count  362.000000  345.000000  380.000000  369.000000  \n",
       "mean          inf         inf   40.678947         inf  \n",
       "std           NaN         NaN   13.793313         NaN  \n",
       "min      0.433333   -1.851852   10.000000   -8.333333  \n",
       "25%      1.666667    1.400000   32.000000    2.550000  \n",
       "50%      2.641711    2.166667   38.000000    4.500000  \n",
       "75%      4.000000    3.333333   50.000000    7.500000  \n",
       "max           inf         inf   83.000000         inf  \n",
       "\n",
       "[8 rows x 28 columns]"
      ]
     },
     "execution_count": 3,
     "metadata": {},
     "output_type": "execute_result"
    }
   ],
   "source": [
    "escapeHemo.describe()"
   ]
  },
  {
   "cell_type": "code",
   "execution_count": 4,
   "metadata": {},
   "outputs": [
    {
     "name": "stdout",
     "output_type": "stream",
     "text": [
      "Age: 56.1[13.9]\n",
      "Gender 0.259\n",
      "Race 0.596[0.404]\n"
     ]
    }
   ],
   "source": [
    "def getStats(data, labels):\n",
    "    if len(data) == len(labels) * 2:\n",
    "        print(\"Age:\", str(round(data.describe()['Age'][1],1)) + \"[\" + str(round(data.describe()['Age'][2],1)) + \"]\")\n",
    "        gen = data['Gender'].value_counts()/2/len(labels)\n",
    "        print(\"Gender\", round(gen[2.0],3))\n",
    "        gen = data['Race'].value_counts()/2/len(labels)\n",
    "        print(\"Race\", str(round(gen[1.0],3))+\"[\" + str(round(gen[2.0],3))+\"]\")\n",
    "    else:\n",
    "        print(\"Age:\", str(round(data.describe()['Age'][1],1)) + \"[\" + str(round(data.describe()['Age'][2],1)) + \"]\")\n",
    "        gen = data['Gender'].value_counts()/len(labels)\n",
    "        print(\"Gender\", round(gen[2.0],3))\n",
    "        gen = data['Race'].value_counts()/len(labels)\n",
    "        print(\"Race\", str(round(gen[1.0],3))+\"[\" + str(round(gen[2.0],3))+\"]\")\n",
    "    \n",
    "getStats(escapeAllData, escapeLabels)"
   ]
  },
  {
   "cell_type": "code",
   "execution_count": 5,
   "metadata": {},
   "outputs": [
    {
     "name": "stdout",
     "output_type": "stream",
     "text": [
      "Age: 58.6[12.7]\n",
      "Gender 0.281\n",
      "Race 0.621[0.379]\n"
     ]
    }
   ],
   "source": [
    "getStats(hfactionAllData, hfactionLabels)"
   ]
  },
  {
   "cell_type": "code",
   "execution_count": 6,
   "metadata": {},
   "outputs": [
    {
     "name": "stdout",
     "output_type": "stream",
     "text": [
      "Age: 60.2[12.3]\n",
      "Gender 0.219\n",
      "Race 0.7[0.3]\n"
     ]
    }
   ],
   "source": [
    "getStats(bestAllData, bestLabels)"
   ]
  },
  {
   "cell_type": "code",
   "execution_count": 7,
   "metadata": {},
   "outputs": [
    {
     "name": "stdout",
     "output_type": "stream",
     "text": [
      "Age: 61.5[13.9]\n",
      "Gender 0.68\n",
      "Race 0.548[0.452]\n"
     ]
    }
   ],
   "source": [
    "getStats(guideAllData, guideLabels)"
   ]
  },
  {
   "cell_type": "code",
   "execution_count": 8,
   "metadata": {},
   "outputs": [],
   "source": [
    "def getStatsCard(data, labels):\n",
    "    print(\"Age:\", str(round(data.describe()['Age'][1],1)) + \"[\" + str(round(data.describe()['Age'][2],1)) + \"]\")\n",
    "    gen = data['Gender'].value_counts()/3/len(labels)\n",
    "    print(\"Gender\", round(gen[2.0],3))\n",
    "\n"
   ]
  },
  {
   "cell_type": "code",
   "execution_count": 9,
   "metadata": {
    "scrolled": true
   },
   "outputs": [
    {
     "name": "stdout",
     "output_type": "stream",
     "text": [
      "Age: 59.4[18.5]\n",
      "Gender 0.117\n"
     ]
    }
   ],
   "source": [
    "getStatsCard(cardShockAllData, cardShockAllData)"
   ]
  },
  {
   "cell_type": "code",
   "execution_count": 10,
   "metadata": {
    "scrolled": true
   },
   "outputs": [
    {
     "name": "stdout",
     "output_type": "stream",
     "text": [
      "Age: 60.6[15.1]\n",
      "Gender 0.432\n"
     ]
    }
   ],
   "source": [
    "getStatsCard(serialAllData, serialLabels)"
   ]
  },
  {
   "cell_type": "code",
   "execution_count": null,
   "metadata": {},
   "outputs": [],
   "source": []
  },
  {
   "cell_type": "code",
   "execution_count": null,
   "metadata": {},
   "outputs": [],
   "source": []
  }
 ],
 "metadata": {
  "kernelspec": {
   "display_name": "Python 3",
   "language": "python",
   "name": "python3"
  },
  "language_info": {
   "codemirror_mode": {
    "name": "ipython",
    "version": 3
   },
   "file_extension": ".py",
   "mimetype": "text/x-python",
   "name": "python",
   "nbconvert_exporter": "python",
   "pygments_lexer": "ipython3",
   "version": "3.8.3"
  }
 },
 "nbformat": 4,
 "nbformat_minor": 4
}