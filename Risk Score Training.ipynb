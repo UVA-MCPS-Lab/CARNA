{
 "cells": [
  {
   "cell_type": "code",
   "execution_count": 1,
   "metadata": {},
   "outputs": [],
   "source": [
    "#Import packages\n",
    "import pandas as pd\n",
    "import numpy as np\n",
    "import matplotlib.pyplot as plt\n",
    "import seaborn as sns\n",
    "import copy\n",
    "import warnings\n",
    "from sklearn.model_selection import train_test_split\n",
    "from sklearn.metrics import f1_score,accuracy_score,recall_score,precision_score\n",
    "from sklearn.preprocessing import label_binarize\n",
    "import pickle\n",
    "from MVDD.MVDD import MVDD\n",
    "import MVDD.MVDD_Generator as mvGen\n",
    "\n",
    "%matplotlib inline\n",
    "\n",
    "plt.rc('font', size=12)\n",
    "warnings.filterwarnings('ignore')"
   ]
  },
  {
   "cell_type": "markdown",
   "metadata": {},
   "source": [
    "# Hemodynamics"
   ]
  },
  {
   "cell_type": "code",
   "execution_count": 2,
   "metadata": {},
   "outputs": [
    {
     "data": {
      "text/html": [
       "<div>\n",
       "<style scoped>\n",
       "    .dataframe tbody tr th:only-of-type {\n",
       "        vertical-align: middle;\n",
       "    }\n",
       "\n",
       "    .dataframe tbody tr th {\n",
       "        vertical-align: top;\n",
       "    }\n",
       "\n",
       "    .dataframe thead th {\n",
       "        text-align: right;\n",
       "    }\n",
       "</style>\n",
       "<table border=\"1\" class=\"dataframe\">\n",
       "  <thead>\n",
       "    <tr style=\"text-align: right;\">\n",
       "      <th></th>\n",
       "      <th>Age</th>\n",
       "      <th>Gender</th>\n",
       "      <th>Race</th>\n",
       "      <th>EjF</th>\n",
       "      <th>RAP</th>\n",
       "      <th>PAS</th>\n",
       "      <th>PAD</th>\n",
       "      <th>PAMN</th>\n",
       "      <th>PCWP</th>\n",
       "      <th>CO</th>\n",
       "      <th>...</th>\n",
       "      <th>RAT</th>\n",
       "      <th>PPRatio</th>\n",
       "      <th>PAPi</th>\n",
       "      <th>SAPi</th>\n",
       "      <th>CPP</th>\n",
       "      <th>PRAPRat</th>\n",
       "      <th>Score</th>\n",
       "      <th>ScoreDeath</th>\n",
       "      <th>ScoreRehosp</th>\n",
       "      <th>ScoreReadmission</th>\n",
       "    </tr>\n",
       "    <tr>\n",
       "      <th>ID</th>\n",
       "      <th></th>\n",
       "      <th></th>\n",
       "      <th></th>\n",
       "      <th></th>\n",
       "      <th></th>\n",
       "      <th></th>\n",
       "      <th></th>\n",
       "      <th></th>\n",
       "      <th></th>\n",
       "      <th></th>\n",
       "      <th></th>\n",
       "      <th></th>\n",
       "      <th></th>\n",
       "      <th></th>\n",
       "      <th></th>\n",
       "      <th></th>\n",
       "      <th></th>\n",
       "      <th></th>\n",
       "      <th></th>\n",
       "      <th></th>\n",
       "      <th></th>\n",
       "    </tr>\n",
       "  </thead>\n",
       "  <tbody>\n",
       "    <tr>\n",
       "      <th>72</th>\n",
       "      <td>88.0</td>\n",
       "      <td>2.0</td>\n",
       "      <td>1.0</td>\n",
       "      <td>25.0</td>\n",
       "      <td>24.0</td>\n",
       "      <td>42.0</td>\n",
       "      <td>24.0</td>\n",
       "      <td>30.0</td>\n",
       "      <td>36.0</td>\n",
       "      <td>2.20</td>\n",
       "      <td>...</td>\n",
       "      <td>0.666667</td>\n",
       "      <td>0.266667</td>\n",
       "      <td>0.750000</td>\n",
       "      <td>0.777778</td>\n",
       "      <td>50.0</td>\n",
       "      <td>1.166667</td>\n",
       "      <td>4</td>\n",
       "      <td>4</td>\n",
       "      <td>4</td>\n",
       "      <td>3</td>\n",
       "    </tr>\n",
       "    <tr>\n",
       "      <th>72</th>\n",
       "      <td>88.0</td>\n",
       "      <td>2.0</td>\n",
       "      <td>1.0</td>\n",
       "      <td>25.0</td>\n",
       "      <td>18.0</td>\n",
       "      <td>42.0</td>\n",
       "      <td>24.0</td>\n",
       "      <td>30.0</td>\n",
       "      <td>24.0</td>\n",
       "      <td>3.10</td>\n",
       "      <td>...</td>\n",
       "      <td>0.750000</td>\n",
       "      <td>0.272727</td>\n",
       "      <td>1.000000</td>\n",
       "      <td>1.000000</td>\n",
       "      <td>50.0</td>\n",
       "      <td>1.333333</td>\n",
       "      <td>4</td>\n",
       "      <td>4</td>\n",
       "      <td>4</td>\n",
       "      <td>3</td>\n",
       "    </tr>\n",
       "    <tr>\n",
       "      <th>81</th>\n",
       "      <td>69.0</td>\n",
       "      <td>1.0</td>\n",
       "      <td>1.0</td>\n",
       "      <td>20.0</td>\n",
       "      <td>10.0</td>\n",
       "      <td>40.0</td>\n",
       "      <td>20.0</td>\n",
       "      <td>27.0</td>\n",
       "      <td>18.0</td>\n",
       "      <td>4.52</td>\n",
       "      <td>...</td>\n",
       "      <td>0.555556</td>\n",
       "      <td>0.242857</td>\n",
       "      <td>2.000000</td>\n",
       "      <td>0.944444</td>\n",
       "      <td>45.0</td>\n",
       "      <td>1.700000</td>\n",
       "      <td>5</td>\n",
       "      <td>5</td>\n",
       "      <td>5</td>\n",
       "      <td>4</td>\n",
       "    </tr>\n",
       "    <tr>\n",
       "      <th>81</th>\n",
       "      <td>69.0</td>\n",
       "      <td>1.0</td>\n",
       "      <td>1.0</td>\n",
       "      <td>20.0</td>\n",
       "      <td>12.0</td>\n",
       "      <td>35.0</td>\n",
       "      <td>15.0</td>\n",
       "      <td>25.0</td>\n",
       "      <td>17.0</td>\n",
       "      <td>4.65</td>\n",
       "      <td>...</td>\n",
       "      <td>0.705882</td>\n",
       "      <td>0.571429</td>\n",
       "      <td>1.666667</td>\n",
       "      <td>2.352941</td>\n",
       "      <td>45.0</td>\n",
       "      <td>3.333333</td>\n",
       "      <td>5</td>\n",
       "      <td>5</td>\n",
       "      <td>5</td>\n",
       "      <td>4</td>\n",
       "    </tr>\n",
       "    <tr>\n",
       "      <th>814</th>\n",
       "      <td>58.0</td>\n",
       "      <td>1.0</td>\n",
       "      <td>1.0</td>\n",
       "      <td>NaN</td>\n",
       "      <td>3.0</td>\n",
       "      <td>51.0</td>\n",
       "      <td>19.0</td>\n",
       "      <td>30.0</td>\n",
       "      <td>18.0</td>\n",
       "      <td>4.10</td>\n",
       "      <td>...</td>\n",
       "      <td>0.166667</td>\n",
       "      <td>0.566667</td>\n",
       "      <td>10.666667</td>\n",
       "      <td>1.888889</td>\n",
       "      <td>44.0</td>\n",
       "      <td>11.333333</td>\n",
       "      <td>5</td>\n",
       "      <td>5</td>\n",
       "      <td>5</td>\n",
       "      <td>4</td>\n",
       "    </tr>\n",
       "    <tr>\n",
       "      <th>...</th>\n",
       "      <td>...</td>\n",
       "      <td>...</td>\n",
       "      <td>...</td>\n",
       "      <td>...</td>\n",
       "      <td>...</td>\n",
       "      <td>...</td>\n",
       "      <td>...</td>\n",
       "      <td>...</td>\n",
       "      <td>...</td>\n",
       "      <td>...</td>\n",
       "      <td>...</td>\n",
       "      <td>...</td>\n",
       "      <td>...</td>\n",
       "      <td>...</td>\n",
       "      <td>...</td>\n",
       "      <td>...</td>\n",
       "      <td>...</td>\n",
       "      <td>...</td>\n",
       "      <td>...</td>\n",
       "      <td>...</td>\n",
       "      <td>...</td>\n",
       "    </tr>\n",
       "    <tr>\n",
       "      <th>98508</th>\n",
       "      <td>57.0</td>\n",
       "      <td>1.0</td>\n",
       "      <td>98.0</td>\n",
       "      <td>30.0</td>\n",
       "      <td>NaN</td>\n",
       "      <td>NaN</td>\n",
       "      <td>NaN</td>\n",
       "      <td>NaN</td>\n",
       "      <td>NaN</td>\n",
       "      <td>NaN</td>\n",
       "      <td>...</td>\n",
       "      <td>NaN</td>\n",
       "      <td>NaN</td>\n",
       "      <td>NaN</td>\n",
       "      <td>NaN</td>\n",
       "      <td>37.0</td>\n",
       "      <td>NaN</td>\n",
       "      <td>3</td>\n",
       "      <td>2</td>\n",
       "      <td>1</td>\n",
       "      <td>5</td>\n",
       "    </tr>\n",
       "    <tr>\n",
       "      <th>99302</th>\n",
       "      <td>41.0</td>\n",
       "      <td>1.0</td>\n",
       "      <td>2.0</td>\n",
       "      <td>15.0</td>\n",
       "      <td>19.0</td>\n",
       "      <td>87.0</td>\n",
       "      <td>37.0</td>\n",
       "      <td>54.0</td>\n",
       "      <td>44.0</td>\n",
       "      <td>3.90</td>\n",
       "      <td>...</td>\n",
       "      <td>0.431818</td>\n",
       "      <td>0.642857</td>\n",
       "      <td>2.631579</td>\n",
       "      <td>1.227273</td>\n",
       "      <td>13.0</td>\n",
       "      <td>2.842105</td>\n",
       "      <td>2</td>\n",
       "      <td>3</td>\n",
       "      <td>3</td>\n",
       "      <td>1</td>\n",
       "    </tr>\n",
       "    <tr>\n",
       "      <th>99302</th>\n",
       "      <td>41.0</td>\n",
       "      <td>1.0</td>\n",
       "      <td>2.0</td>\n",
       "      <td>15.0</td>\n",
       "      <td>11.0</td>\n",
       "      <td>70.0</td>\n",
       "      <td>28.0</td>\n",
       "      <td>44.0</td>\n",
       "      <td>28.0</td>\n",
       "      <td>5.30</td>\n",
       "      <td>...</td>\n",
       "      <td>0.392857</td>\n",
       "      <td>1.088608</td>\n",
       "      <td>3.818182</td>\n",
       "      <td>3.071429</td>\n",
       "      <td>13.0</td>\n",
       "      <td>7.818182</td>\n",
       "      <td>2</td>\n",
       "      <td>3</td>\n",
       "      <td>3</td>\n",
       "      <td>1</td>\n",
       "    </tr>\n",
       "    <tr>\n",
       "      <th>99935</th>\n",
       "      <td>64.0</td>\n",
       "      <td>2.0</td>\n",
       "      <td>1.0</td>\n",
       "      <td>20.0</td>\n",
       "      <td>8.0</td>\n",
       "      <td>49.0</td>\n",
       "      <td>29.0</td>\n",
       "      <td>31.0</td>\n",
       "      <td>15.0</td>\n",
       "      <td>4.00</td>\n",
       "      <td>...</td>\n",
       "      <td>0.533333</td>\n",
       "      <td>1.253333</td>\n",
       "      <td>2.500000</td>\n",
       "      <td>6.266667</td>\n",
       "      <td>30.0</td>\n",
       "      <td>11.750000</td>\n",
       "      <td>4</td>\n",
       "      <td>4</td>\n",
       "      <td>4</td>\n",
       "      <td>3</td>\n",
       "    </tr>\n",
       "    <tr>\n",
       "      <th>99935</th>\n",
       "      <td>64.0</td>\n",
       "      <td>2.0</td>\n",
       "      <td>1.0</td>\n",
       "      <td>20.0</td>\n",
       "      <td>8.0</td>\n",
       "      <td>52.0</td>\n",
       "      <td>24.0</td>\n",
       "      <td>39.0</td>\n",
       "      <td>24.0</td>\n",
       "      <td>5.60</td>\n",
       "      <td>...</td>\n",
       "      <td>0.333333</td>\n",
       "      <td>0.888889</td>\n",
       "      <td>3.500000</td>\n",
       "      <td>3.000000</td>\n",
       "      <td>30.0</td>\n",
       "      <td>9.000000</td>\n",
       "      <td>4</td>\n",
       "      <td>4</td>\n",
       "      <td>4</td>\n",
       "      <td>3</td>\n",
       "    </tr>\n",
       "  </tbody>\n",
       "</table>\n",
       "<p>418 rows × 32 columns</p>\n",
       "</div>"
      ],
      "text/plain": [
       "        Age  Gender  Race   EjF   RAP   PAS   PAD  PAMN  PCWP    CO  ...  \\\n",
       "ID                                                                   ...   \n",
       "72     88.0     2.0   1.0  25.0  24.0  42.0  24.0  30.0  36.0  2.20  ...   \n",
       "72     88.0     2.0   1.0  25.0  18.0  42.0  24.0  30.0  24.0  3.10  ...   \n",
       "81     69.0     1.0   1.0  20.0  10.0  40.0  20.0  27.0  18.0  4.52  ...   \n",
       "81     69.0     1.0   1.0  20.0  12.0  35.0  15.0  25.0  17.0  4.65  ...   \n",
       "814    58.0     1.0   1.0   NaN   3.0  51.0  19.0  30.0  18.0  4.10  ...   \n",
       "...     ...     ...   ...   ...   ...   ...   ...   ...   ...   ...  ...   \n",
       "98508  57.0     1.0  98.0  30.0   NaN   NaN   NaN   NaN   NaN   NaN  ...   \n",
       "99302  41.0     1.0   2.0  15.0  19.0  87.0  37.0  54.0  44.0  3.90  ...   \n",
       "99302  41.0     1.0   2.0  15.0  11.0  70.0  28.0  44.0  28.0  5.30  ...   \n",
       "99935  64.0     2.0   1.0  20.0   8.0  49.0  29.0  31.0  15.0  4.00  ...   \n",
       "99935  64.0     2.0   1.0  20.0   8.0  52.0  24.0  39.0  24.0  5.60  ...   \n",
       "\n",
       "            RAT   PPRatio       PAPi      SAPi   CPP    PRAPRat  Score  \\\n",
       "ID                                                                       \n",
       "72     0.666667  0.266667   0.750000  0.777778  50.0   1.166667      4   \n",
       "72     0.750000  0.272727   1.000000  1.000000  50.0   1.333333      4   \n",
       "81     0.555556  0.242857   2.000000  0.944444  45.0   1.700000      5   \n",
       "81     0.705882  0.571429   1.666667  2.352941  45.0   3.333333      5   \n",
       "814    0.166667  0.566667  10.666667  1.888889  44.0  11.333333      5   \n",
       "...         ...       ...        ...       ...   ...        ...    ...   \n",
       "98508       NaN       NaN        NaN       NaN  37.0        NaN      3   \n",
       "99302  0.431818  0.642857   2.631579  1.227273  13.0   2.842105      2   \n",
       "99302  0.392857  1.088608   3.818182  3.071429  13.0   7.818182      2   \n",
       "99935  0.533333  1.253333   2.500000  6.266667  30.0  11.750000      4   \n",
       "99935  0.333333  0.888889   3.500000  3.000000  30.0   9.000000      4   \n",
       "\n",
       "       ScoreDeath  ScoreRehosp  ScoreReadmission  \n",
       "ID                                                \n",
       "72              4            4                 3  \n",
       "72              4            4                 3  \n",
       "81              5            5                 4  \n",
       "81              5            5                 4  \n",
       "814             5            5                 4  \n",
       "...           ...          ...               ...  \n",
       "98508           2            1                 5  \n",
       "99302           3            3                 1  \n",
       "99302           3            3                 1  \n",
       "99935           4            4                 3  \n",
       "99935           4            4                 3  \n",
       "\n",
       "[418 rows x 32 columns]"
      ]
     },
     "execution_count": 2,
     "metadata": {},
     "output_type": "execute_result"
    }
   ],
   "source": [
    "#Load original dataframes\n",
    "hemoData = pd.read_csv('Data/Preprocessed Data/ESCAPE_Hemo.csv', index_col='ID')\n",
    "allScores = hemoData['Score']\n",
    "death = hemoData['ScoreDeath']\n",
    "rehosp = hemoData['ScoreRehosp']\n",
    "readm = hemoData['ScoreReadmission']\n",
    "hemoData"
   ]
  },
  {
   "cell_type": "code",
   "execution_count": 3,
   "metadata": {},
   "outputs": [
    {
     "data": {
      "text/plain": [
       "((418, 28), (418,))"
      ]
     },
     "execution_count": 3,
     "metadata": {},
     "output_type": "execute_result"
    }
   ],
   "source": [
    "# Preprocess and create training and testing sets\n",
    "hemo = hemoData.drop('Score', axis=1)\n",
    "hemo = hemo.drop('ScoreDeath', axis=1)\n",
    "hemo = hemo.drop('ScoreRehosp', axis=1)\n",
    "hemo = hemo.drop('ScoreReadmission', axis=1)\n",
    "hemo = hemo.replace(np.inf, 0)\n",
    "hemo = hemo.fillna(0)\n",
    "\n",
    "xData = hemo\n",
    "yData = allScores\n",
    "xData.shape, yData.shape"
   ]
  },
  {
   "cell_type": "markdown",
   "metadata": {},
   "source": [
    "## All Scores Label"
   ]
  },
  {
   "cell_type": "code",
   "execution_count": null,
   "metadata": {},
   "outputs": [
    {
     "name": "stdout",
     "output_type": "stream",
     "text": [
      "\n",
      "Total edges: 38 Nonterminal Edge 18\n",
      "Must have more than 5 and less than 11 OR Edges\n",
      "Best edge set: ['solid', 'solid', 'solid', 'solid', 'solid', 'solid', 'dashed', 'dashed', 'dashed', 'dashed', 'dashed', 'solid', 'solid', 'solid', 'dashed', 'solid', 'solid', 'solid']\n",
      "Accuracy DT: 0.9069767441860465\n",
      "Accuracy MVDD: 0.9069767441860465\n"
     ]
    },
    {
     "data": {
      "image/png": "[encoded data removed]",
      "text/plain": [
       "<Figure size 720x576 with 1 Axes>"
      ]
     },
     "metadata": {
      "needs_background": "light"
     },
     "output_type": "display_data"
    },
    {
     "name": "stdout",
     "output_type": "stream",
     "text": [
      "\n",
      "Total edges: 40 Nonterminal Edge 19\n",
      "Must have more than 6 and less than 11 OR Edges\n",
      "Best edge set: ['solid', 'solid', 'solid', 'solid', 'dashed', 'dashed', 'dashed', 'dashed', 'dashed', 'dashed', 'dashed', 'solid', 'solid', 'solid', 'solid', 'solid', 'solid', 'solid', 'solid']\n",
      "Accuracy DT: 0.8928571428571429\n",
      "Accuracy MVDD: 0.8928571428571429\n"
     ]
    },
    {
     "data": {
      "image/png": "[encoded data removed]",
      "text/plain": [
       "<Figure size 720x576 with 1 Axes>"
      ]
     },
     "metadata": {
      "needs_background": "light"
     },
     "output_type": "display_data"
    },
    {
     "name": "stdout",
     "output_type": "stream",
     "text": [
      "\n",
      "Total edges: 44 Nonterminal Edge 21\n",
      "Must have more than 6 and less than 13 OR Edges\n"
     ]
    }
   ],
   "source": [
    "yData = allScores\n",
    "mvdd = mvGen.generateTreeCrossValidation(xData=xData, yData=yData, classes=[\"1\", \"2\", \"3\", \"4\", \"5\"], \n",
    "                                        learningCriteria='gini', maxLevels=None, minSamplesPerLeaf=1, \n",
    "                                        modelName='Hemo_AllOutcomes', numFolds=5, \n",
    "                                        showIndividualROC=True)"
   ]
  },
  {
   "cell_type": "code",
   "execution_count": null,
   "metadata": {},
   "outputs": [],
   "source": [
    "# Get Feature importance\n",
    "featureDict = dict(zip(hemo.columns, mvdd.model.feature_importances_))\n",
    "featureImp = pd.DataFrame.from_dict(featureDict, orient='index')\n",
    "featureImp.rename(columns = {0:'Feature Importance'}, inplace = True)\n",
    "featureImp = featureImp.sort_values(by=['Feature Importance'], ascending=False)\n",
    "featureImp.head(10)"
   ]
  },
  {
   "cell_type": "markdown",
   "metadata": {},
   "source": [
    "## Death Label"
   ]
  },
  {
   "cell_type": "code",
   "execution_count": null,
   "metadata": {
    "scrolled": true
   },
   "outputs": [],
   "source": [
    "yData = death\n",
    "mvdd = mvGen.generateTreeCrossValidation(xData=xData, yData=yData, classes=[\"1\", \"2\", \"3\", \"4\", \"5\"], \n",
    "                                        learningCriteria='gini', maxLevels=None, minSamplesPerLeaf=1, \n",
    "                                        modelName='Hemo_Death', numFolds=5, \n",
    "                                        showIndividualROC=True)"
   ]
  },
  {
   "cell_type": "code",
   "execution_count": null,
   "metadata": {},
   "outputs": [],
   "source": [
    "# Get Feature importance\n",
    "featureDict = dict(zip(hemo.columns, mvdd.model.feature_importances_))\n",
    "featureImp = pd.DataFrame.from_dict(featureDict, orient='index')\n",
    "featureImp.rename(columns = {0:'Feature Importance'}, inplace = True)\n",
    "featureImp = featureImp.sort_values(by=['Feature Importance'], ascending=False)\n",
    "featureImp.head(10)"
   ]
  },
  {
   "cell_type": "markdown",
   "metadata": {},
   "source": [
    "## Rehospitalization"
   ]
  },
  {
   "cell_type": "code",
   "execution_count": null,
   "metadata": {},
   "outputs": [],
   "source": [
    "yData = rehosp\n",
    "mvdd = mvGen.generateTreeCrossValidation(xData=xData, yData=yData, classes=[\"1\", \"2\", \"3\", \"4\", \"5\"], \n",
    "                                        learningCriteria='gini', maxLevels=None, minSamplesPerLeaf=1, \n",
    "                                        modelName='Hemo_Rehosp', numFolds=5, \n",
    "                                        showIndividualROC=True)"
   ]
  },
  {
   "cell_type": "code",
   "execution_count": null,
   "metadata": {},
   "outputs": [],
   "source": [
    "# Get Feature importance\n",
    "featureDict = dict(zip(hemo.columns, mvdd.model.feature_importances_))\n",
    "featureImp = pd.DataFrame.from_dict(featureDict, orient='index')\n",
    "featureImp.rename(columns = {0:'Feature Importance'}, inplace = True)\n",
    "featureImp = featureImp.sort_values(by=['Feature Importance'], ascending=False)\n",
    "featureImp.head(10)"
   ]
  },
  {
   "cell_type": "markdown",
   "metadata": {},
   "source": [
    "## Readmission"
   ]
  },
  {
   "cell_type": "code",
   "execution_count": null,
   "metadata": {},
   "outputs": [],
   "source": [
    "yData = readm\n",
    "mvdd = mvGen.generateTreeCrossValidation(xData=xData, yData=yData, classes=[\"1\", \"2\", \"3\", \"4\", \"5\"], \n",
    "                                        learningCriteria='gini', maxLevels=None, minSamplesPerLeaf=1, \n",
    "                                        modelName='Hemo_Readmission', numFolds=5, \n",
    "                                        showIndividualROC=True)"
   ]
  },
  {
   "cell_type": "code",
   "execution_count": null,
   "metadata": {},
   "outputs": [],
   "source": [
    "# Get Feature importance\n",
    "featureDict = dict(zip(hemo.columns, mvdd.model.feature_importances_))\n",
    "featureImp = pd.DataFrame.from_dict(featureDict, orient='index')\n",
    "featureImp.rename(columns = {0:'Feature Importance'}, inplace = True)\n",
    "featureImp = featureImp.sort_values(by=['Feature Importance'], ascending=False)\n",
    "featureImp.head(10)"
   ]
  },
  {
   "cell_type": "markdown",
   "metadata": {},
   "source": [
    "# All Data"
   ]
  },
  {
   "cell_type": "code",
   "execution_count": null,
   "metadata": {},
   "outputs": [],
   "source": [
    "#Load original dataframes\n",
    "allData = pd.read_csv('Data/Preprocessed Data/ESCAPE_AllData.csv', index_col='ID')\n",
    "allScores = allData['Score']\n",
    "death = allData['ScoreDeath']\n",
    "rehosp = allData['ScoreRehosp']\n",
    "readm = allData['ScoreReadmission']\n",
    "allData"
   ]
  },
  {
   "cell_type": "code",
   "execution_count": null,
   "metadata": {},
   "outputs": [],
   "source": [
    "# Preprocess and create training and testing sets\n",
    "alld = allData.drop('Score', axis=1)\n",
    "alld = alld.drop('ScoreDeath', axis=1)\n",
    "alld = alld.drop('ScoreRehosp', axis=1)\n",
    "alld = alld.drop('ScoreReadmission', axis=1)\n",
    "alld = alld.replace(np.inf, 0)\n",
    "alld = alld.fillna(0)\n",
    "\n",
    "xData = alld\n",
    "yData = death\n",
    "xData.shape, yData.shape"
   ]
  },
  {
   "cell_type": "markdown",
   "metadata": {},
   "source": [
    "## All Scores Label"
   ]
  },
  {
   "cell_type": "code",
   "execution_count": null,
   "metadata": {
    "scrolled": true
   },
   "outputs": [],
   "source": [
    "yData = allScores\n",
    "mvdd = mvGen.generateTreeCrossValidation(xData=xData, yData=yData, classes=[\"1\", \"2\", \"3\", \"4\", \"5\"], \n",
    "                                        learningCriteria='gini', maxLevels=None, minSamplesPerLeaf=1, \n",
    "                                        modelName='AllData_AllOutcomes', numFolds=5, \n",
    "                                        showIndividualROC=True)"
   ]
  },
  {
   "cell_type": "code",
   "execution_count": null,
   "metadata": {},
   "outputs": [],
   "source": [
    "# Get Feature importance\n",
    "featureDict = dict(zip(alld.columns, mvdd.model.feature_importances_))\n",
    "featureImp = pd.DataFrame.from_dict(featureDict, orient='index')\n",
    "featureImp.rename(columns = {0:'Feature Importance'}, inplace = True)\n",
    "featureImp = featureImp.sort_values(by=['Feature Importance'], ascending=False)\n",
    "featureImp.head(10)"
   ]
  },
  {
   "cell_type": "markdown",
   "metadata": {},
   "source": [
    "## Death Label"
   ]
  },
  {
   "cell_type": "code",
   "execution_count": null,
   "metadata": {
    "scrolled": true
   },
   "outputs": [],
   "source": [
    "yData = death\n",
    "mvdd = mvGen.generateTreeCrossValidation(xData=xData, yData=yData, classes=[\"1\", \"2\", \"3\", \"4\", \"5\"], \n",
    "                                        learningCriteria='gini', maxLevels=None, minSamplesPerLeaf=1, \n",
    "                                        modelName='AllData_Death', numFolds=5, \n",
    "                                        showIndividualROC=True)"
   ]
  },
  {
   "cell_type": "code",
   "execution_count": null,
   "metadata": {},
   "outputs": [],
   "source": [
    "# Get Feature importance\n",
    "featureDict = dict(zip(alld.columns, mvdd.model.feature_importances_))\n",
    "featureImp = pd.DataFrame.from_dict(featureDict, orient='index')\n",
    "featureImp.rename(columns = {0:'Feature Importance'}, inplace = True)\n",
    "featureImp = featureImp.sort_values(by=['Feature Importance'], ascending=False)\n",
    "featureImp.head(10)"
   ]
  },
  {
   "cell_type": "markdown",
   "metadata": {},
   "source": [
    "## Rehosp Label"
   ]
  },
  {
   "cell_type": "code",
   "execution_count": null,
   "metadata": {
    "scrolled": true
   },
   "outputs": [],
   "source": [
    "yData = rehosp\n",
    "mvdd = mvGen.generateTreeCrossValidation(xData=xData, yData=yData, classes=[\"1\", \"2\", \"3\", \"4\", \"5\"], \n",
    "                                        learningCriteria='gini', maxLevels=None, minSamplesPerLeaf=1, \n",
    "                                        modelName='AllData_Rehosp', numFolds=5, \n",
    "                                        showIndividualROC=True)"
   ]
  },
  {
   "cell_type": "code",
   "execution_count": null,
   "metadata": {},
   "outputs": [],
   "source": [
    "# Get Feature importance\n",
    "featureDict = dict(zip(alld.columns, mvdd.model.feature_importances_))\n",
    "featureImp = pd.DataFrame.from_dict(featureDict, orient='index')\n",
    "featureImp.rename(columns = {0:'Feature Importance'}, inplace = True)\n",
    "featureImp = featureImp.sort_values(by=['Feature Importance'], ascending=False)\n",
    "featureImp.head(10)"
   ]
  },
  {
   "cell_type": "markdown",
   "metadata": {},
   "source": [
    "## Readmission Label"
   ]
  },
  {
   "cell_type": "code",
   "execution_count": null,
   "metadata": {
    "scrolled": true
   },
   "outputs": [],
   "source": [
    "yData = readm\n",
    "mvdd = mvGen.generateTreeCrossValidation(xData=xData, yData=yData, classes=[\"1\", \"2\", \"3\", \"4\", \"5\"], \n",
    "                                        learningCriteria='gini', maxLevels=None, minSamplesPerLeaf=1, \n",
    "                                        modelName='AllData_Readmission', numFolds=5, \n",
    "                                        showIndividualROC=True)"
   ]
  },
  {
   "cell_type": "code",
   "execution_count": null,
   "metadata": {},
   "outputs": [],
   "source": [
    "# Get Feature importance\n",
    "featureDict = dict(zip(alld.columns, mvdd.model.feature_importances_))\n",
    "featureImp = pd.DataFrame.from_dict(featureDict, orient='index')\n",
    "featureImp.rename(columns = {0:'Feature Importance'}, inplace = True)\n",
    "featureImp = featureImp.sort_values(by=['Feature Importance'], ascending=False)\n",
    "featureImp.head(10)"
   ]
  },
  {
   "cell_type": "code",
   "execution_count": null,
   "metadata": {},
   "outputs": [],
   "source": []
  },
  {
   "cell_type": "code",
   "execution_count": null,
   "metadata": {},
   "outputs": [],
   "source": []
  }
 ],
 "metadata": {
  "kernelspec": {
   "display_name": "Python 3",
   "language": "python",
   "name": "python3"
  },
  "language_info": {
   "codemirror_mode": {
    "name": "ipython",
    "version": 3
   },
   "file_extension": ".py",
   "mimetype": "text/x-python",
   "name": "python",
   "nbconvert_exporter": "python",
   "pygments_lexer": "ipython3",
   "version": "3.7.0"
  }
 },
 "nbformat": 4,
 "nbformat_minor": 4
}
